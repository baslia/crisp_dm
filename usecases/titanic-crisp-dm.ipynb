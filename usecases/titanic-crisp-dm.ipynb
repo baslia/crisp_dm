{
 "cells": [
  {
   "cell_type": "markdown",
   "source": [
    "# 1. Business Understanding\n",
    "There is no real business understanding, but we want to estimate the survival of the passengers in the Titanic."
   ],
   "metadata": {
    "collapsed": false
   },
   "id": "b5e9799da5508a57"
  },
  {
   "cell_type": "code",
   "execution_count": null,
   "id": "c9935cbb",
   "metadata": {
    "_cell_guid": "b1076dfc-b9ad-4769-8c92-a6c4dae69d19",
    "_uuid": "8f2839f25d086af736a60e9eeb907d3b93b6e0e5",
    "execution": {
     "iopub.execute_input": "2023-03-21T12:31:58.642875Z",
     "iopub.status.busy": "2023-03-21T12:31:58.642441Z",
     "iopub.status.idle": "2023-03-21T12:31:58.659918Z",
     "shell.execute_reply": "2023-03-21T12:31:58.658977Z"
    },
    "papermill": {
     "duration": 0.043247,
     "end_time": "2023-03-21T12:31:58.662824",
     "exception": false,
     "start_time": "2023-03-21T12:31:58.619577",
     "status": "completed"
    },
    "tags": [],
    "is_executing": true
   },
   "outputs": [],
   "source": [
    "# Running some import\n",
    "import numpy as np # linear algebra\n",
    "import pandas as pd # data processing, CSV file I/O (e.g. pd.read_csv)\n"
   ]
  },
  {
   "cell_type": "markdown",
   "id": "285f4930",
   "metadata": {
    "papermill": {
     "duration": 0.01602,
     "end_time": "2023-03-21T12:31:58.695554",
     "exception": false,
     "start_time": "2023-03-21T12:31:58.679534",
     "status": "completed"
    },
    "tags": []
   },
   "source": [
    "# 2. Data Understanding \n",
    "Exploratory Data Analysis (EDA) Phase"
   ]
  },
  {
   "cell_type": "markdown",
   "id": "f631aefe",
   "metadata": {
    "papermill": {
     "duration": 0.017526,
     "end_time": "2023-03-21T12:31:58.729766",
     "exception": false,
     "start_time": "2023-03-21T12:31:58.712240",
     "status": "completed"
    },
    "tags": []
   },
   "source": [
    "we simply load and try to analyze the data set from the scratch"
   ]
  },
  {
   "cell_type": "code",
   "execution_count": 2,
   "id": "d354a296",
   "metadata": {
    "execution": {
     "iopub.execute_input": "2023-03-21T12:31:58.764611Z",
     "iopub.status.busy": "2023-03-21T12:31:58.763914Z",
     "iopub.status.idle": "2023-03-21T12:31:58.806761Z",
     "shell.execute_reply": "2023-03-21T12:31:58.805268Z"
    },
    "papermill": {
     "duration": 0.063518,
     "end_time": "2023-03-21T12:31:58.809552",
     "exception": false,
     "start_time": "2023-03-21T12:31:58.746034",
     "status": "completed"
    },
    "tags": []
   },
   "outputs": [
    {
     "data": {
      "text/html": [
       "<div>\n",
       "<style scoped>\n",
       "    .dataframe tbody tr th:only-of-type {\n",
       "        vertical-align: middle;\n",
       "    }\n",
       "\n",
       "    .dataframe tbody tr th {\n",
       "        vertical-align: top;\n",
       "    }\n",
       "\n",
       "    .dataframe thead th {\n",
       "        text-align: right;\n",
       "    }\n",
       "</style>\n",
       "<table border=\"1\" class=\"dataframe\">\n",
       "  <thead>\n",
       "    <tr style=\"text-align: right;\">\n",
       "      <th></th>\n",
       "      <th>PassengerId</th>\n",
       "      <th>Survived</th>\n",
       "      <th>Pclass</th>\n",
       "      <th>Name</th>\n",
       "      <th>Sex</th>\n",
       "      <th>Age</th>\n",
       "      <th>SibSp</th>\n",
       "      <th>Parch</th>\n",
       "      <th>Ticket</th>\n",
       "      <th>Fare</th>\n",
       "      <th>Cabin</th>\n",
       "      <th>Embarked</th>\n",
       "    </tr>\n",
       "  </thead>\n",
       "  <tbody>\n",
       "    <tr>\n",
       "      <th>0</th>\n",
       "      <td>1</td>\n",
       "      <td>0</td>\n",
       "      <td>3</td>\n",
       "      <td>Braund, Mr. Owen Harris</td>\n",
       "      <td>male</td>\n",
       "      <td>22.0</td>\n",
       "      <td>1</td>\n",
       "      <td>0</td>\n",
       "      <td>A/5 21171</td>\n",
       "      <td>7.2500</td>\n",
       "      <td>NaN</td>\n",
       "      <td>S</td>\n",
       "    </tr>\n",
       "    <tr>\n",
       "      <th>1</th>\n",
       "      <td>2</td>\n",
       "      <td>1</td>\n",
       "      <td>1</td>\n",
       "      <td>Cumings, Mrs. John Bradley (Florence Briggs Th...</td>\n",
       "      <td>female</td>\n",
       "      <td>38.0</td>\n",
       "      <td>1</td>\n",
       "      <td>0</td>\n",
       "      <td>PC 17599</td>\n",
       "      <td>71.2833</td>\n",
       "      <td>C85</td>\n",
       "      <td>C</td>\n",
       "    </tr>\n",
       "    <tr>\n",
       "      <th>2</th>\n",
       "      <td>3</td>\n",
       "      <td>1</td>\n",
       "      <td>3</td>\n",
       "      <td>Heikkinen, Miss. Laina</td>\n",
       "      <td>female</td>\n",
       "      <td>26.0</td>\n",
       "      <td>0</td>\n",
       "      <td>0</td>\n",
       "      <td>STON/O2. 3101282</td>\n",
       "      <td>7.9250</td>\n",
       "      <td>NaN</td>\n",
       "      <td>S</td>\n",
       "    </tr>\n",
       "  </tbody>\n",
       "</table>\n",
       "</div>"
      ],
      "text/plain": [
       "   PassengerId  Survived  Pclass  \\\n",
       "0            1         0       3   \n",
       "1            2         1       1   \n",
       "2            3         1       3   \n",
       "\n",
       "                                                Name     Sex   Age  SibSp  \\\n",
       "0                            Braund, Mr. Owen Harris    male  22.0      1   \n",
       "1  Cumings, Mrs. John Bradley (Florence Briggs Th...  female  38.0      1   \n",
       "2                             Heikkinen, Miss. Laina  female  26.0      0   \n",
       "\n",
       "   Parch            Ticket     Fare Cabin Embarked  \n",
       "0      0         A/5 21171   7.2500   NaN        S  \n",
       "1      0          PC 17599  71.2833   C85        C  \n",
       "2      0  STON/O2. 3101282   7.9250   NaN        S  "
      ]
     },
     "execution_count": 2,
     "metadata": {},
     "output_type": "execute_result"
    }
   ],
   "source": [
    "#load the data set\n",
    "df = pd.read_csv('/kaggle/input/titanic/train.csv')\n",
    "#check the first 3 rows of the data\n",
    "df.head(3)"
   ]
  },
  {
   "cell_type": "code",
   "execution_count": 3,
   "id": "b2f0277a",
   "metadata": {
    "execution": {
     "iopub.execute_input": "2023-03-21T12:31:58.844431Z",
     "iopub.status.busy": "2023-03-21T12:31:58.844000Z",
     "iopub.status.idle": "2023-03-21T12:31:58.853756Z",
     "shell.execute_reply": "2023-03-21T12:31:58.852613Z"
    },
    "papermill": {
     "duration": 0.030307,
     "end_time": "2023-03-21T12:31:58.856430",
     "exception": false,
     "start_time": "2023-03-21T12:31:58.826123",
     "status": "completed"
    },
    "tags": []
   },
   "outputs": [
    {
     "data": {
      "text/plain": [
       "'Cumings, Mrs. John Bradley (Florence Briggs Thayer)'"
      ]
     },
     "execution_count": 3,
     "metadata": {},
     "output_type": "execute_result"
    }
   ],
   "source": [
    "#access a single cell (column and row), you can replace the 'Name' column or row number\n",
    "df['Name'][1]"
   ]
  },
  {
   "cell_type": "code",
   "execution_count": 4,
   "id": "054e94ec",
   "metadata": {
    "execution": {
     "iopub.execute_input": "2023-03-21T12:31:58.892044Z",
     "iopub.status.busy": "2023-03-21T12:31:58.891258Z",
     "iopub.status.idle": "2023-03-21T12:31:58.898227Z",
     "shell.execute_reply": "2023-03-21T12:31:58.897129Z"
    },
    "papermill": {
     "duration": 0.027457,
     "end_time": "2023-03-21T12:31:58.900721",
     "exception": false,
     "start_time": "2023-03-21T12:31:58.873264",
     "status": "completed"
    },
    "tags": []
   },
   "outputs": [
    {
     "data": {
      "text/plain": [
       "(891, 12)"
      ]
     },
     "execution_count": 4,
     "metadata": {},
     "output_type": "execute_result"
    }
   ],
   "source": [
    "#get the shape of the data set, in (x,y) form, x is the number of rows, y is the number of columns\n",
    "df.shape"
   ]
  },
  {
   "cell_type": "code",
   "execution_count": 5,
   "id": "98e71b57",
   "metadata": {
    "execution": {
     "iopub.execute_input": "2023-03-21T12:31:58.936746Z",
     "iopub.status.busy": "2023-03-21T12:31:58.935671Z",
     "iopub.status.idle": "2023-03-21T12:31:58.944777Z",
     "shell.execute_reply": "2023-03-21T12:31:58.943608Z"
    },
    "papermill": {
     "duration": 0.029782,
     "end_time": "2023-03-21T12:31:58.947211",
     "exception": false,
     "start_time": "2023-03-21T12:31:58.917429",
     "status": "completed"
    },
    "tags": []
   },
   "outputs": [
    {
     "data": {
      "text/plain": [
       "PassengerId      int64\n",
       "Survived         int64\n",
       "Pclass           int64\n",
       "Name            object\n",
       "Sex             object\n",
       "Age            float64\n",
       "SibSp            int64\n",
       "Parch            int64\n",
       "Ticket          object\n",
       "Fare           float64\n",
       "Cabin           object\n",
       "Embarked        object\n",
       "dtype: object"
      ]
     },
     "execution_count": 5,
     "metadata": {},
     "output_type": "execute_result"
    }
   ],
   "source": [
    "# get the types of the columns. \n",
    "#int64 means numeric in integer form, \n",
    "#float64 means numeric in float form \n",
    "#object means nominal (non-numeric) data \n",
    "df.dtypes"
   ]
  },
  {
   "cell_type": "code",
   "execution_count": 6,
   "id": "fd3aece3",
   "metadata": {
    "execution": {
     "iopub.execute_input": "2023-03-21T12:31:58.983225Z",
     "iopub.status.busy": "2023-03-21T12:31:58.982784Z",
     "iopub.status.idle": "2023-03-21T12:31:58.994673Z",
     "shell.execute_reply": "2023-03-21T12:31:58.993336Z"
    },
    "papermill": {
     "duration": 0.032894,
     "end_time": "2023-03-21T12:31:58.997209",
     "exception": false,
     "start_time": "2023-03-21T12:31:58.964315",
     "status": "completed"
    },
    "tags": []
   },
   "outputs": [
    {
     "data": {
      "text/plain": [
       "male      577\n",
       "female    314\n",
       "Name: Sex, dtype: int64"
      ]
     },
     "execution_count": 6,
     "metadata": {},
     "output_type": "execute_result"
    }
   ],
   "source": [
    "#we try to understand the distribution of male / female\n",
    "df['Sex'].value_counts()"
   ]
  },
  {
   "cell_type": "markdown",
   "id": "5ea03e2b",
   "metadata": {
    "papermill": {
     "duration": 0.01661,
     "end_time": "2023-03-21T12:31:59.030655",
     "exception": false,
     "start_time": "2023-03-21T12:31:59.014045",
     "status": "completed"
    },
    "tags": []
   },
   "source": [
    "Data seems like imbalanced. Althoug the imbalanced data can create problem for most of the machine learning algorithms, 577 to 314 doesn't seem like a very big problem. Please keep in mind if the ration is something like 90% 10%. Also, you can try SMOTE or other methods for balancing data but for now I will not go in this way. "
   ]
  },
  {
   "cell_type": "code",
   "execution_count": 7,
   "id": "08d69576",
   "metadata": {
    "execution": {
     "iopub.execute_input": "2023-03-21T12:31:59.066608Z",
     "iopub.status.busy": "2023-03-21T12:31:59.066180Z",
     "iopub.status.idle": "2023-03-21T12:31:59.332563Z",
     "shell.execute_reply": "2023-03-21T12:31:59.331332Z"
    },
    "papermill": {
     "duration": 0.28759,
     "end_time": "2023-03-21T12:31:59.335188",
     "exception": false,
     "start_time": "2023-03-21T12:31:59.047598",
     "status": "completed"
    },
    "tags": []
   },
   "outputs": [
    {
     "data": {
      "text/plain": [
       "<AxesSubplot:>"
      ]
     },
     "execution_count": 7,
     "metadata": {},
     "output_type": "execute_result"
    },
    {
     "data": {
      "image/png": "[encoded data removed]",
      "text/plain": [
       "<Figure size 640x480 with 1 Axes>"
      ]
     },
     "metadata": {},
     "output_type": "display_data"
    }
   ],
   "source": [
    "df['Sex'].value_counts().plot.bar()"
   ]
  },
  {
   "cell_type": "code",
   "execution_count": 8,
   "id": "a7e71568",
   "metadata": {
    "execution": {
     "iopub.execute_input": "2023-03-21T12:31:59.372354Z",
     "iopub.status.busy": "2023-03-21T12:31:59.371915Z",
     "iopub.status.idle": "2023-03-21T12:31:59.557758Z",
     "shell.execute_reply": "2023-03-21T12:31:59.556574Z"
    },
    "papermill": {
     "duration": 0.207214,
     "end_time": "2023-03-21T12:31:59.560362",
     "exception": false,
     "start_time": "2023-03-21T12:31:59.353148",
     "status": "completed"
    },
    "tags": []
   },
   "outputs": [
    {
     "data": {
      "text/plain": [
       "<AxesSubplot:>"
      ]
     },
     "execution_count": 8,
     "metadata": {},
     "output_type": "execute_result"
    },
    {
     "data": {
      "image/png": "[encoded data removed]",
      "text/plain": [
       "<Figure size 640x480 with 1 Axes>"
      ]
     },
     "metadata": {},
     "output_type": "display_data"
    }
   ],
   "source": [
    "df['Sex'].value_counts().plot.bar()"
   ]
  },
  {
   "cell_type": "code",
   "execution_count": 9,
   "id": "b41ed48f",
   "metadata": {
    "execution": {
     "iopub.execute_input": "2023-03-21T12:31:59.597967Z",
     "iopub.status.busy": "2023-03-21T12:31:59.597244Z",
     "iopub.status.idle": "2023-03-21T12:31:59.606483Z",
     "shell.execute_reply": "2023-03-21T12:31:59.605339Z"
    },
    "papermill": {
     "duration": 0.030753,
     "end_time": "2023-03-21T12:31:59.608890",
     "exception": false,
     "start_time": "2023-03-21T12:31:59.578137",
     "status": "completed"
    },
    "tags": []
   },
   "outputs": [
    {
     "data": {
      "text/plain": [
       "0    549\n",
       "1    342\n",
       "Name: Survived, dtype: int64"
      ]
     },
     "execution_count": 9,
     "metadata": {},
     "output_type": "execute_result"
    }
   ],
   "source": [
    "# survived is the target column. We try to get the distribution of survive\n",
    "df['Survived'].value_counts()"
   ]
  },
  {
   "cell_type": "code",
   "execution_count": 10,
   "id": "3f5eed64",
   "metadata": {
    "execution": {
     "iopub.execute_input": "2023-03-21T12:31:59.648305Z",
     "iopub.status.busy": "2023-03-21T12:31:59.647317Z",
     "iopub.status.idle": "2023-03-21T12:31:59.826986Z",
     "shell.execute_reply": "2023-03-21T12:31:59.825701Z"
    },
    "papermill": {
     "duration": 0.201534,
     "end_time": "2023-03-21T12:31:59.829678",
     "exception": false,
     "start_time": "2023-03-21T12:31:59.628144",
     "status": "completed"
    },
    "tags": []
   },
   "outputs": [
    {
     "data": {
      "text/plain": [
       "<AxesSubplot:>"
      ]
     },
     "execution_count": 10,
     "metadata": {},
     "output_type": "execute_result"
    },
    {
     "data": {
      "image/png": "[encoded data removed]",
      "text/plain": [
       "<Figure size 640x480 with 1 Axes>"
      ]
     },
     "metadata": {},
     "output_type": "display_data"
    }
   ],
   "source": [
    "df['Survived'].value_counts().plot.bar()"
   ]
  },
  {
   "cell_type": "code",
   "execution_count": 11,
   "id": "72c5251e",
   "metadata": {
    "execution": {
     "iopub.execute_input": "2023-03-21T12:31:59.869162Z",
     "iopub.status.busy": "2023-03-21T12:31:59.867869Z",
     "iopub.status.idle": "2023-03-21T12:31:59.878773Z",
     "shell.execute_reply": "2023-03-21T12:31:59.877495Z"
    },
    "papermill": {
     "duration": 0.033113,
     "end_time": "2023-03-21T12:31:59.881260",
     "exception": false,
     "start_time": "2023-03-21T12:31:59.848147",
     "status": "completed"
    },
    "tags": []
   },
   "outputs": [
    {
     "data": {
      "text/plain": [
       "0    468\n",
       "1    109\n",
       "Name: Survived, dtype: int64"
      ]
     },
     "execution_count": 11,
     "metadata": {},
     "output_type": "execute_result"
    }
   ],
   "source": [
    "df[ df['Sex'] == 'male']['Survived'].value_counts()"
   ]
  },
  {
   "cell_type": "markdown",
   "id": "6feb11a5",
   "metadata": {
    "papermill": {
     "duration": 0.018151,
     "end_time": "2023-03-21T12:31:59.917577",
     "exception": false,
     "start_time": "2023-03-21T12:31:59.899426",
     "status": "completed"
    },
    "tags": []
   },
   "source": [
    "So, we can see the distribution of survived column, only for males"
   ]
  },
  {
   "cell_type": "code",
   "execution_count": 12,
   "id": "009a6487",
   "metadata": {
    "execution": {
     "iopub.execute_input": "2023-03-21T12:31:59.955970Z",
     "iopub.status.busy": "2023-03-21T12:31:59.955545Z",
     "iopub.status.idle": "2023-03-21T12:31:59.965748Z",
     "shell.execute_reply": "2023-03-21T12:31:59.964572Z"
    },
    "papermill": {
     "duration": 0.032507,
     "end_time": "2023-03-21T12:31:59.968320",
     "exception": false,
     "start_time": "2023-03-21T12:31:59.935813",
     "status": "completed"
    },
    "tags": []
   },
   "outputs": [
    {
     "data": {
      "text/plain": [
       "1    233\n",
       "0     81\n",
       "Name: Survived, dtype: int64"
      ]
     },
     "execution_count": 12,
     "metadata": {},
     "output_type": "execute_result"
    }
   ],
   "source": [
    "df[ df['Sex'] == 'female']['Survived'].value_counts()"
   ]
  },
  {
   "cell_type": "markdown",
   "id": "522440c5",
   "metadata": {
    "papermill": {
     "duration": 0.018121,
     "end_time": "2023-03-21T12:32:00.004838",
     "exception": false,
     "start_time": "2023-03-21T12:31:59.986717",
     "status": "completed"
    },
    "tags": []
   },
   "source": [
    "Or, the distribution of survive for the female passengers"
   ]
  },
  {
   "cell_type": "code",
   "execution_count": 13,
   "id": "46392371",
   "metadata": {
    "execution": {
     "iopub.execute_input": "2023-03-21T12:32:00.044629Z",
     "iopub.status.busy": "2023-03-21T12:32:00.043335Z",
     "iopub.status.idle": "2023-03-21T12:32:00.059551Z",
     "shell.execute_reply": "2023-03-21T12:32:00.058304Z"
    },
    "papermill": {
     "duration": 0.038596,
     "end_time": "2023-03-21T12:32:00.062074",
     "exception": false,
     "start_time": "2023-03-21T12:32:00.023478",
     "status": "completed"
    },
    "tags": []
   },
   "outputs": [
    {
     "data": {
      "text/plain": [
       "Sex     Survived\n",
       "male    0           468\n",
       "female  1           233\n",
       "male    1           109\n",
       "female  0            81\n",
       "dtype: int64"
      ]
     },
     "execution_count": 13,
     "metadata": {},
     "output_type": "execute_result"
    }
   ],
   "source": [
    "df[ ['Sex','Survived']].value_counts()"
   ]
  },
  {
   "cell_type": "code",
   "execution_count": 14,
   "id": "23bcb516",
   "metadata": {
    "execution": {
     "iopub.execute_input": "2023-03-21T12:32:00.101684Z",
     "iopub.status.busy": "2023-03-21T12:32:00.100562Z",
     "iopub.status.idle": "2023-03-21T12:32:00.115165Z",
     "shell.execute_reply": "2023-03-21T12:32:00.113847Z"
    },
    "papermill": {
     "duration": 0.037342,
     "end_time": "2023-03-21T12:32:00.118030",
     "exception": false,
     "start_time": "2023-03-21T12:32:00.080688",
     "status": "completed"
    },
    "tags": []
   },
   "outputs": [
    {
     "data": {
      "text/html": [
       "<div>\n",
       "<style scoped>\n",
       "    .dataframe tbody tr th:only-of-type {\n",
       "        vertical-align: middle;\n",
       "    }\n",
       "\n",
       "    .dataframe tbody tr th {\n",
       "        vertical-align: top;\n",
       "    }\n",
       "\n",
       "    .dataframe thead th {\n",
       "        text-align: right;\n",
       "    }\n",
       "</style>\n",
       "<table border=\"1\" class=\"dataframe\">\n",
       "  <thead>\n",
       "    <tr style=\"text-align: right;\">\n",
       "      <th></th>\n",
       "      <th></th>\n",
       "      <th>Sex/Survived</th>\n",
       "    </tr>\n",
       "    <tr>\n",
       "      <th>Sex</th>\n",
       "      <th>Survived</th>\n",
       "      <th></th>\n",
       "    </tr>\n",
       "  </thead>\n",
       "  <tbody>\n",
       "    <tr>\n",
       "      <th>male</th>\n",
       "      <th>0</th>\n",
       "      <td>468</td>\n",
       "    </tr>\n",
       "    <tr>\n",
       "      <th>female</th>\n",
       "      <th>1</th>\n",
       "      <td>233</td>\n",
       "    </tr>\n",
       "    <tr>\n",
       "      <th>male</th>\n",
       "      <th>1</th>\n",
       "      <td>109</td>\n",
       "    </tr>\n",
       "    <tr>\n",
       "      <th>female</th>\n",
       "      <th>0</th>\n",
       "      <td>81</td>\n",
       "    </tr>\n",
       "  </tbody>\n",
       "</table>\n",
       "</div>"
      ],
      "text/plain": [
       "                 Sex/Survived\n",
       "Sex    Survived              \n",
       "male   0                  468\n",
       "female 1                  233\n",
       "male   1                  109\n",
       "female 0                   81"
      ]
     },
     "execution_count": 14,
     "metadata": {},
     "output_type": "execute_result"
    }
   ],
   "source": [
    "#lets conver the above summary table to data frame\n",
    "x = df[ ['Sex','Survived']].value_counts()\n",
    "result = pd.DataFrame(x, columns = ['Sex/Survived'])\n",
    "result"
   ]
  },
  {
   "cell_type": "code",
   "execution_count": 15,
   "id": "4ef46708",
   "metadata": {
    "execution": {
     "iopub.execute_input": "2023-03-21T12:32:00.157733Z",
     "iopub.status.busy": "2023-03-21T12:32:00.156982Z",
     "iopub.status.idle": "2023-03-21T12:32:00.187368Z",
     "shell.execute_reply": "2023-03-21T12:32:00.185994Z"
    },
    "papermill": {
     "duration": 0.053227,
     "end_time": "2023-03-21T12:32:00.189896",
     "exception": false,
     "start_time": "2023-03-21T12:32:00.136669",
     "status": "completed"
    },
    "tags": []
   },
   "outputs": [
    {
     "data": {
      "text/html": [
       "<div>\n",
       "<style scoped>\n",
       "    .dataframe tbody tr th:only-of-type {\n",
       "        vertical-align: middle;\n",
       "    }\n",
       "\n",
       "    .dataframe tbody tr th {\n",
       "        vertical-align: top;\n",
       "    }\n",
       "\n",
       "    .dataframe thead tr th {\n",
       "        text-align: left;\n",
       "    }\n",
       "\n",
       "    .dataframe thead tr:last-of-type th {\n",
       "        text-align: right;\n",
       "    }\n",
       "</style>\n",
       "<table border=\"1\" class=\"dataframe\">\n",
       "  <thead>\n",
       "    <tr>\n",
       "      <th></th>\n",
       "      <th colspan=\"2\" halign=\"left\">Age</th>\n",
       "    </tr>\n",
       "    <tr>\n",
       "      <th>Survived</th>\n",
       "      <th>0</th>\n",
       "      <th>1</th>\n",
       "    </tr>\n",
       "    <tr>\n",
       "      <th>Sex</th>\n",
       "      <th></th>\n",
       "      <th></th>\n",
       "    </tr>\n",
       "  </thead>\n",
       "  <tbody>\n",
       "    <tr>\n",
       "      <th>female</th>\n",
       "      <td>25.046875</td>\n",
       "      <td>28.847716</td>\n",
       "    </tr>\n",
       "    <tr>\n",
       "      <th>male</th>\n",
       "      <td>31.618056</td>\n",
       "      <td>27.276022</td>\n",
       "    </tr>\n",
       "  </tbody>\n",
       "</table>\n",
       "</div>"
      ],
      "text/plain": [
       "                Age           \n",
       "Survived          0          1\n",
       "Sex                           \n",
       "female    25.046875  28.847716\n",
       "male      31.618056  27.276022"
      ]
     },
     "execution_count": 15,
     "metadata": {},
     "output_type": "execute_result"
    }
   ],
   "source": [
    "#furthermore you can also create a pivot table \n",
    "df[['Sex','Survived','Age']].pivot_table(index = 'Sex', columns = 'Survived')"
   ]
  },
  {
   "cell_type": "code",
   "execution_count": 16,
   "id": "a6e8c3de",
   "metadata": {
    "execution": {
     "iopub.execute_input": "2023-03-21T12:32:00.230550Z",
     "iopub.status.busy": "2023-03-21T12:32:00.229848Z",
     "iopub.status.idle": "2023-03-21T12:32:00.239014Z",
     "shell.execute_reply": "2023-03-21T12:32:00.237787Z"
    },
    "papermill": {
     "duration": 0.031926,
     "end_time": "2023-03-21T12:32:00.241343",
     "exception": false,
     "start_time": "2023-03-21T12:32:00.209417",
     "status": "completed"
    },
    "tags": []
   },
   "outputs": [
    {
     "data": {
      "text/plain": [
       "0        1\n",
       "1        2\n",
       "2        3\n",
       "3        4\n",
       "4        5\n",
       "      ... \n",
       "886    887\n",
       "887    888\n",
       "888    889\n",
       "889    890\n",
       "890    891\n",
       "Name: PassengerId, Length: 891, dtype: int64"
      ]
     },
     "execution_count": 16,
     "metadata": {},
     "output_type": "execute_result"
    }
   ],
   "source": [
    "#it is a good idea to remove the id columns, lets firs check the content\n",
    "df['PassengerId']"
   ]
  },
  {
   "cell_type": "code",
   "execution_count": 17,
   "id": "e5bdc94a",
   "metadata": {
    "execution": {
     "iopub.execute_input": "2023-03-21T12:32:00.281718Z",
     "iopub.status.busy": "2023-03-21T12:32:00.280918Z",
     "iopub.status.idle": "2023-03-21T12:32:00.299288Z",
     "shell.execute_reply": "2023-03-21T12:32:00.297853Z"
    },
    "papermill": {
     "duration": 0.041806,
     "end_time": "2023-03-21T12:32:00.301951",
     "exception": false,
     "start_time": "2023-03-21T12:32:00.260145",
     "status": "completed"
    },
    "tags": []
   },
   "outputs": [
    {
     "data": {
      "text/html": [
       "<div>\n",
       "<style scoped>\n",
       "    .dataframe tbody tr th:only-of-type {\n",
       "        vertical-align: middle;\n",
       "    }\n",
       "\n",
       "    .dataframe tbody tr th {\n",
       "        vertical-align: top;\n",
       "    }\n",
       "\n",
       "    .dataframe thead th {\n",
       "        text-align: right;\n",
       "    }\n",
       "</style>\n",
       "<table border=\"1\" class=\"dataframe\">\n",
       "  <thead>\n",
       "    <tr style=\"text-align: right;\">\n",
       "      <th></th>\n",
       "      <th>Survived</th>\n",
       "      <th>Pclass</th>\n",
       "      <th>Name</th>\n",
       "      <th>Sex</th>\n",
       "      <th>Age</th>\n",
       "      <th>SibSp</th>\n",
       "      <th>Parch</th>\n",
       "      <th>Ticket</th>\n",
       "      <th>Fare</th>\n",
       "      <th>Cabin</th>\n",
       "      <th>Embarked</th>\n",
       "    </tr>\n",
       "  </thead>\n",
       "  <tbody>\n",
       "    <tr>\n",
       "      <th>0</th>\n",
       "      <td>0</td>\n",
       "      <td>3</td>\n",
       "      <td>Braund, Mr. Owen Harris</td>\n",
       "      <td>male</td>\n",
       "      <td>22.0</td>\n",
       "      <td>1</td>\n",
       "      <td>0</td>\n",
       "      <td>A/5 21171</td>\n",
       "      <td>7.2500</td>\n",
       "      <td>NaN</td>\n",
       "      <td>S</td>\n",
       "    </tr>\n",
       "    <tr>\n",
       "      <th>1</th>\n",
       "      <td>1</td>\n",
       "      <td>1</td>\n",
       "      <td>Cumings, Mrs. John Bradley (Florence Briggs Th...</td>\n",
       "      <td>female</td>\n",
       "      <td>38.0</td>\n",
       "      <td>1</td>\n",
       "      <td>0</td>\n",
       "      <td>PC 17599</td>\n",
       "      <td>71.2833</td>\n",
       "      <td>C85</td>\n",
       "      <td>C</td>\n",
       "    </tr>\n",
       "    <tr>\n",
       "      <th>2</th>\n",
       "      <td>1</td>\n",
       "      <td>3</td>\n",
       "      <td>Heikkinen, Miss. Laina</td>\n",
       "      <td>female</td>\n",
       "      <td>26.0</td>\n",
       "      <td>0</td>\n",
       "      <td>0</td>\n",
       "      <td>STON/O2. 3101282</td>\n",
       "      <td>7.9250</td>\n",
       "      <td>NaN</td>\n",
       "      <td>S</td>\n",
       "    </tr>\n",
       "  </tbody>\n",
       "</table>\n",
       "</div>"
      ],
      "text/plain": [
       "   Survived  Pclass                                               Name  \\\n",
       "0         0       3                            Braund, Mr. Owen Harris   \n",
       "1         1       1  Cumings, Mrs. John Bradley (Florence Briggs Th...   \n",
       "2         1       3                             Heikkinen, Miss. Laina   \n",
       "\n",
       "      Sex   Age  SibSp  Parch            Ticket     Fare Cabin Embarked  \n",
       "0    male  22.0      1      0         A/5 21171   7.2500   NaN        S  \n",
       "1  female  38.0      1      0          PC 17599  71.2833   C85        C  \n",
       "2  female  26.0      0      0  STON/O2. 3101282   7.9250   NaN        S  "
      ]
     },
     "execution_count": 17,
     "metadata": {},
     "output_type": "execute_result"
    }
   ],
   "source": [
    "#now we can remove it (passenger id column from the data set)\n",
    "df.drop('PassengerId', axis = 1, inplace = True)\n",
    "df.head(3)"
   ]
  },
  {
   "cell_type": "code",
   "execution_count": 18,
   "id": "cbb3d40d",
   "metadata": {
    "execution": {
     "iopub.execute_input": "2023-03-21T12:32:00.342430Z",
     "iopub.status.busy": "2023-03-21T12:32:00.341476Z",
     "iopub.status.idle": "2023-03-21T12:32:00.371440Z",
     "shell.execute_reply": "2023-03-21T12:32:00.370523Z"
    },
    "papermill": {
     "duration": 0.052826,
     "end_time": "2023-03-21T12:32:00.373992",
     "exception": false,
     "start_time": "2023-03-21T12:32:00.321166",
     "status": "completed"
    },
    "tags": []
   },
   "outputs": [
    {
     "data": {
      "text/html": [
       "<div>\n",
       "<style scoped>\n",
       "    .dataframe tbody tr th:only-of-type {\n",
       "        vertical-align: middle;\n",
       "    }\n",
       "\n",
       "    .dataframe tbody tr th {\n",
       "        vertical-align: top;\n",
       "    }\n",
       "\n",
       "    .dataframe thead th {\n",
       "        text-align: right;\n",
       "    }\n",
       "</style>\n",
       "<table border=\"1\" class=\"dataframe\">\n",
       "  <thead>\n",
       "    <tr style=\"text-align: right;\">\n",
       "      <th></th>\n",
       "      <th>Survived</th>\n",
       "      <th>Pclass</th>\n",
       "      <th>Age</th>\n",
       "      <th>SibSp</th>\n",
       "      <th>Parch</th>\n",
       "      <th>Fare</th>\n",
       "    </tr>\n",
       "  </thead>\n",
       "  <tbody>\n",
       "    <tr>\n",
       "      <th>count</th>\n",
       "      <td>891.000000</td>\n",
       "      <td>891.000000</td>\n",
       "      <td>714.000000</td>\n",
       "      <td>891.000000</td>\n",
       "      <td>891.000000</td>\n",
       "      <td>891.000000</td>\n",
       "    </tr>\n",
       "    <tr>\n",
       "      <th>mean</th>\n",
       "      <td>0.383838</td>\n",
       "      <td>2.308642</td>\n",
       "      <td>29.699118</td>\n",
       "      <td>0.523008</td>\n",
       "      <td>0.381594</td>\n",
       "      <td>32.204208</td>\n",
       "    </tr>\n",
       "    <tr>\n",
       "      <th>std</th>\n",
       "      <td>0.486592</td>\n",
       "      <td>0.836071</td>\n",
       "      <td>14.526497</td>\n",
       "      <td>1.102743</td>\n",
       "      <td>0.806057</td>\n",
       "      <td>49.693429</td>\n",
       "    </tr>\n",
       "    <tr>\n",
       "      <th>min</th>\n",
       "      <td>0.000000</td>\n",
       "      <td>1.000000</td>\n",
       "      <td>0.420000</td>\n",
       "      <td>0.000000</td>\n",
       "      <td>0.000000</td>\n",
       "      <td>0.000000</td>\n",
       "    </tr>\n",
       "    <tr>\n",
       "      <th>25%</th>\n",
       "      <td>0.000000</td>\n",
       "      <td>2.000000</td>\n",
       "      <td>20.125000</td>\n",
       "      <td>0.000000</td>\n",
       "      <td>0.000000</td>\n",
       "      <td>7.910400</td>\n",
       "    </tr>\n",
       "    <tr>\n",
       "      <th>50%</th>\n",
       "      <td>0.000000</td>\n",
       "      <td>3.000000</td>\n",
       "      <td>28.000000</td>\n",
       "      <td>0.000000</td>\n",
       "      <td>0.000000</td>\n",
       "      <td>14.454200</td>\n",
       "    </tr>\n",
       "    <tr>\n",
       "      <th>75%</th>\n",
       "      <td>1.000000</td>\n",
       "      <td>3.000000</td>\n",
       "      <td>38.000000</td>\n",
       "      <td>1.000000</td>\n",
       "      <td>0.000000</td>\n",
       "      <td>31.000000</td>\n",
       "    </tr>\n",
       "    <tr>\n",
       "      <th>max</th>\n",
       "      <td>1.000000</td>\n",
       "      <td>3.000000</td>\n",
       "      <td>80.000000</td>\n",
       "      <td>8.000000</td>\n",
       "      <td>6.000000</td>\n",
       "      <td>512.329200</td>\n",
       "    </tr>\n",
       "  </tbody>\n",
       "</table>\n",
       "</div>"
      ],
      "text/plain": [
       "         Survived      Pclass         Age       SibSp       Parch        Fare\n",
       "count  891.000000  891.000000  714.000000  891.000000  891.000000  891.000000\n",
       "mean     0.383838    2.308642   29.699118    0.523008    0.381594   32.204208\n",
       "std      0.486592    0.836071   14.526497    1.102743    0.806057   49.693429\n",
       "min      0.000000    1.000000    0.420000    0.000000    0.000000    0.000000\n",
       "25%      0.000000    2.000000   20.125000    0.000000    0.000000    7.910400\n",
       "50%      0.000000    3.000000   28.000000    0.000000    0.000000   14.454200\n",
       "75%      1.000000    3.000000   38.000000    1.000000    0.000000   31.000000\n",
       "max      1.000000    3.000000   80.000000    8.000000    6.000000  512.329200"
      ]
     },
     "execution_count": 18,
     "metadata": {},
     "output_type": "execute_result"
    }
   ],
   "source": [
    "# describe function also provides useful information about numeric columns \n",
    "df.describe()"
   ]
  },
  {
   "cell_type": "markdown",
   "id": "c7601912",
   "metadata": {
    "papermill": {
     "duration": 0.019997,
     "end_time": "2023-03-21T12:32:00.414442",
     "exception": false,
     "start_time": "2023-03-21T12:32:00.394445",
     "status": "completed"
    },
    "tags": []
   },
   "source": [
    "Above table shows some important information:\n",
    "- Age column has missing values\n",
    "- only 38.3% of the passengers survived\n",
    "- Average fare of ticket is 32 while the 75% of passengers got the ticket below 32, which means the fare column is a skewed column.\n",
    "- Pclass column has min 1 and 25% 2 and 50% 3 values, which means majority of the data is in 3rd class\n",
    "- Parch is min 0 and max 6 while 75% is 0, which means majority of the passengers travel alone.\n",
    "\n",
    "you can also add more comments from the above table."
   ]
  },
  {
   "cell_type": "code",
   "execution_count": 19,
   "id": "d207ec19",
   "metadata": {
    "execution": {
     "iopub.execute_input": "2023-03-21T12:32:00.456128Z",
     "iopub.status.busy": "2023-03-21T12:32:00.455428Z",
     "iopub.status.idle": "2023-03-21T12:32:00.468880Z",
     "shell.execute_reply": "2023-03-21T12:32:00.467992Z"
    },
    "papermill": {
     "duration": 0.037195,
     "end_time": "2023-03-21T12:32:00.471222",
     "exception": false,
     "start_time": "2023-03-21T12:32:00.434027",
     "status": "completed"
    },
    "tags": []
   },
   "outputs": [
    {
     "data": {
      "text/html": [
       "<div>\n",
       "<style scoped>\n",
       "    .dataframe tbody tr th:only-of-type {\n",
       "        vertical-align: middle;\n",
       "    }\n",
       "\n",
       "    .dataframe tbody tr th {\n",
       "        vertical-align: top;\n",
       "    }\n",
       "\n",
       "    .dataframe thead th {\n",
       "        text-align: right;\n",
       "    }\n",
       "</style>\n",
       "<table border=\"1\" class=\"dataframe\">\n",
       "  <thead>\n",
       "    <tr style=\"text-align: right;\">\n",
       "      <th></th>\n",
       "      <th>Survived</th>\n",
       "      <th>Pclass</th>\n",
       "      <th>Age</th>\n",
       "      <th>SibSp</th>\n",
       "      <th>Parch</th>\n",
       "      <th>Fare</th>\n",
       "    </tr>\n",
       "  </thead>\n",
       "  <tbody>\n",
       "    <tr>\n",
       "      <th>Survived</th>\n",
       "      <td>1.000000</td>\n",
       "      <td>-0.338481</td>\n",
       "      <td>-0.077221</td>\n",
       "      <td>-0.035322</td>\n",
       "      <td>0.081629</td>\n",
       "      <td>0.257307</td>\n",
       "    </tr>\n",
       "    <tr>\n",
       "      <th>Pclass</th>\n",
       "      <td>-0.338481</td>\n",
       "      <td>1.000000</td>\n",
       "      <td>-0.369226</td>\n",
       "      <td>0.083081</td>\n",
       "      <td>0.018443</td>\n",
       "      <td>-0.549500</td>\n",
       "    </tr>\n",
       "    <tr>\n",
       "      <th>Age</th>\n",
       "      <td>-0.077221</td>\n",
       "      <td>-0.369226</td>\n",
       "      <td>1.000000</td>\n",
       "      <td>-0.308247</td>\n",
       "      <td>-0.189119</td>\n",
       "      <td>0.096067</td>\n",
       "    </tr>\n",
       "    <tr>\n",
       "      <th>SibSp</th>\n",
       "      <td>-0.035322</td>\n",
       "      <td>0.083081</td>\n",
       "      <td>-0.308247</td>\n",
       "      <td>1.000000</td>\n",
       "      <td>0.414838</td>\n",
       "      <td>0.159651</td>\n",
       "    </tr>\n",
       "    <tr>\n",
       "      <th>Parch</th>\n",
       "      <td>0.081629</td>\n",
       "      <td>0.018443</td>\n",
       "      <td>-0.189119</td>\n",
       "      <td>0.414838</td>\n",
       "      <td>1.000000</td>\n",
       "      <td>0.216225</td>\n",
       "    </tr>\n",
       "    <tr>\n",
       "      <th>Fare</th>\n",
       "      <td>0.257307</td>\n",
       "      <td>-0.549500</td>\n",
       "      <td>0.096067</td>\n",
       "      <td>0.159651</td>\n",
       "      <td>0.216225</td>\n",
       "      <td>1.000000</td>\n",
       "    </tr>\n",
       "  </tbody>\n",
       "</table>\n",
       "</div>"
      ],
      "text/plain": [
       "          Survived    Pclass       Age     SibSp     Parch      Fare\n",
       "Survived  1.000000 -0.338481 -0.077221 -0.035322  0.081629  0.257307\n",
       "Pclass   -0.338481  1.000000 -0.369226  0.083081  0.018443 -0.549500\n",
       "Age      -0.077221 -0.369226  1.000000 -0.308247 -0.189119  0.096067\n",
       "SibSp    -0.035322  0.083081 -0.308247  1.000000  0.414838  0.159651\n",
       "Parch     0.081629  0.018443 -0.189119  0.414838  1.000000  0.216225\n",
       "Fare      0.257307 -0.549500  0.096067  0.159651  0.216225  1.000000"
      ]
     },
     "execution_count": 19,
     "metadata": {},
     "output_type": "execute_result"
    }
   ],
   "source": [
    "#Another important EDA is correlation table\n",
    "df.corr()"
   ]
  },
  {
   "cell_type": "markdown",
   "id": "24220172",
   "metadata": {
    "papermill": {
     "duration": 0.019299,
     "end_time": "2023-03-21T12:32:00.510095",
     "exception": false,
     "start_time": "2023-03-21T12:32:00.490796",
     "status": "completed"
    },
    "tags": []
   },
   "source": [
    "In the correlation table, there are two major checks we do in EDA phase. \n",
    "1. Which columns are highly correlated with target column (Survived). So we can focus on the highly correlated columns to build our model. \n",
    "2. Which columns are correlated with each other. So perhaps we can eliminate some highly correlated columns. \n",
    "\n",
    "Please keep in mind, the negative correlation is also a correlation, so the lowest relation between columns is 0."
   ]
  },
  {
   "cell_type": "code",
   "execution_count": 20,
   "id": "c8169a4e",
   "metadata": {
    "execution": {
     "iopub.execute_input": "2023-03-21T12:32:00.551825Z",
     "iopub.status.busy": "2023-03-21T12:32:00.551054Z",
     "iopub.status.idle": "2023-03-21T12:32:02.179717Z",
     "shell.execute_reply": "2023-03-21T12:32:02.178254Z"
    },
    "papermill": {
     "duration": 1.652625,
     "end_time": "2023-03-21T12:32:02.182582",
     "exception": false,
     "start_time": "2023-03-21T12:32:00.529957",
     "status": "completed"
    },
    "tags": []
   },
   "outputs": [
    {
     "data": {
      "text/plain": [
       "<AxesSubplot:>"
      ]
     },
     "execution_count": 20,
     "metadata": {},
     "output_type": "execute_result"
    },
    {
     "data": {
      "image/png": "[encoded data removed]",
      "text/plain": [
       "<Figure size 1100x900 with 2 Axes>"
      ]
     },
     "metadata": {},
     "output_type": "display_data"
    }
   ],
   "source": [
    "from matplotlib import pyplot as plt\n",
    "\n",
    "# For this example we'll use Seaborn, which has some nice built in plots\n",
    "import seaborn as sns\n",
    "# Set up the matplotlib figure\n",
    "f, ax = plt.subplots(figsize=(11, 9))\n",
    "\n",
    "# Generate a custom diverging colormap\n",
    "cmap = sns.diverging_palette(220, 10, as_cmap=True)\n",
    "\n",
    "# Draw the heatmap with the mask and correct aspect ratio\n",
    "# More details at https://seaborn.pydata.org/generated/seaborn.heatmap.html\n",
    "sns.heatmap(\n",
    "    df.corr(),          # The data to plot\n",
    "    cmap=cmap,     # What colors to plot the heatmap as\n",
    "    annot=True,    # Should the values be plotted in the cells?\n",
    "    vmax=.3,       # The maximum value of the legend. All higher vals will be same color\n",
    "    vmin=-.3,      # The minimum value of the legend. All lower vals will be same color\n",
    "    center=0,      # The center value of the legend. With divergent cmap, where white is\n",
    "    square=True,   # Force cells to be square\n",
    "    linewidths=.5, # Width of lines that divide cells\n",
    "    cbar_kws={\"shrink\": .5}  # Extra kwargs for the legend; in this case, shrink by 50%\n",
    ")"
   ]
  },
  {
   "cell_type": "markdown",
   "id": "c329c22a",
   "metadata": {
    "papermill": {
     "duration": 0.02185,
     "end_time": "2023-03-21T12:32:02.225340",
     "exception": false,
     "start_time": "2023-03-21T12:32:02.203490",
     "status": "completed"
    },
    "tags": []
   },
   "source": [
    "# Data Conversion from Categoric to Numeric"
   ]
  },
  {
   "cell_type": "markdown",
   "id": "f1c91a9a",
   "metadata": {
    "papermill": {
     "duration": 0.020017,
     "end_time": "2023-03-21T12:32:02.266015",
     "exception": false,
     "start_time": "2023-03-21T12:32:02.245998",
     "status": "completed"
    },
    "tags": []
   },
   "source": [
    "Most of the machine learning algorithms takes the input in numeric form. Second phase of the CRISP-DM is data preprocessing and we will try to implement some feature engineering / data conversion techniques. "
   ]
  },
  {
   "cell_type": "code",
   "execution_count": 21,
   "id": "184d6a59",
   "metadata": {
    "execution": {
     "iopub.execute_input": "2023-03-21T12:32:02.309071Z",
     "iopub.status.busy": "2023-03-21T12:32:02.308332Z",
     "iopub.status.idle": "2023-03-21T12:32:02.316567Z",
     "shell.execute_reply": "2023-03-21T12:32:02.315274Z"
    },
    "papermill": {
     "duration": 0.032814,
     "end_time": "2023-03-21T12:32:02.319183",
     "exception": false,
     "start_time": "2023-03-21T12:32:02.286369",
     "status": "completed"
    },
    "tags": []
   },
   "outputs": [
    {
     "data": {
      "text/plain": [
       "Survived      int64\n",
       "Pclass        int64\n",
       "Name         object\n",
       "Sex          object\n",
       "Age         float64\n",
       "SibSp         int64\n",
       "Parch         int64\n",
       "Ticket       object\n",
       "Fare        float64\n",
       "Cabin        object\n",
       "Embarked     object\n",
       "dtype: object"
      ]
     },
     "execution_count": 21,
     "metadata": {},
     "output_type": "execute_result"
    }
   ],
   "source": [
    "#let's check the data types first\n",
    "df.dtypes"
   ]
  },
  {
   "cell_type": "code",
   "execution_count": 22,
   "id": "e784b6f1",
   "metadata": {
    "execution": {
     "iopub.execute_input": "2023-03-21T12:32:02.363685Z",
     "iopub.status.busy": "2023-03-21T12:32:02.362265Z",
     "iopub.status.idle": "2023-03-21T12:32:02.372014Z",
     "shell.execute_reply": "2023-03-21T12:32:02.370684Z"
    },
    "papermill": {
     "duration": 0.035037,
     "end_time": "2023-03-21T12:32:02.375042",
     "exception": false,
     "start_time": "2023-03-21T12:32:02.340005",
     "status": "completed"
    },
    "tags": []
   },
   "outputs": [
    {
     "data": {
      "text/plain": [
       "0      male\n",
       "1    female\n",
       "2    female\n",
       "3    female\n",
       "4      male\n",
       "Name: Sex, dtype: object"
      ]
     },
     "execution_count": 22,
     "metadata": {},
     "output_type": "execute_result"
    }
   ],
   "source": [
    "# lets see the content of a nominal column Sex\n",
    "df['Sex'].head()"
   ]
  },
  {
   "cell_type": "code",
   "execution_count": 23,
   "id": "c9a59205",
   "metadata": {
    "execution": {
     "iopub.execute_input": "2023-03-21T12:32:02.419478Z",
     "iopub.status.busy": "2023-03-21T12:32:02.419016Z",
     "iopub.status.idle": "2023-03-21T12:32:02.427833Z",
     "shell.execute_reply": "2023-03-21T12:32:02.426638Z"
    },
    "papermill": {
     "duration": 0.033774,
     "end_time": "2023-03-21T12:32:02.430255",
     "exception": false,
     "start_time": "2023-03-21T12:32:02.396481",
     "status": "completed"
    },
    "tags": []
   },
   "outputs": [
    {
     "data": {
      "text/plain": [
       "0    S\n",
       "1    C\n",
       "2    S\n",
       "3    S\n",
       "4    S\n",
       "Name: Embarked, dtype: object"
      ]
     },
     "execution_count": 23,
     "metadata": {},
     "output_type": "execute_result"
    }
   ],
   "source": [
    "# lets see the content of a nominal column Embarked\n",
    "df['Embarked'].head()"
   ]
  },
  {
   "cell_type": "code",
   "execution_count": 24,
   "id": "5df05506",
   "metadata": {
    "execution": {
     "iopub.execute_input": "2023-03-21T12:32:02.475310Z",
     "iopub.status.busy": "2023-03-21T12:32:02.474624Z",
     "iopub.status.idle": "2023-03-21T12:32:02.494926Z",
     "shell.execute_reply": "2023-03-21T12:32:02.494012Z"
    },
    "papermill": {
     "duration": 0.045589,
     "end_time": "2023-03-21T12:32:02.497320",
     "exception": false,
     "start_time": "2023-03-21T12:32:02.451731",
     "status": "completed"
    },
    "tags": []
   },
   "outputs": [
    {
     "data": {
      "text/html": [
       "<div>\n",
       "<style scoped>\n",
       "    .dataframe tbody tr th:only-of-type {\n",
       "        vertical-align: middle;\n",
       "    }\n",
       "\n",
       "    .dataframe tbody tr th {\n",
       "        vertical-align: top;\n",
       "    }\n",
       "\n",
       "    .dataframe thead th {\n",
       "        text-align: right;\n",
       "    }\n",
       "</style>\n",
       "<table border=\"1\" class=\"dataframe\">\n",
       "  <thead>\n",
       "    <tr style=\"text-align: right;\">\n",
       "      <th></th>\n",
       "      <th>Survived</th>\n",
       "      <th>Pclass</th>\n",
       "      <th>Name</th>\n",
       "      <th>Sex</th>\n",
       "      <th>Age</th>\n",
       "      <th>SibSp</th>\n",
       "      <th>Parch</th>\n",
       "      <th>Ticket</th>\n",
       "      <th>Fare</th>\n",
       "      <th>Cabin</th>\n",
       "      <th>C</th>\n",
       "      <th>Q</th>\n",
       "      <th>S</th>\n",
       "    </tr>\n",
       "  </thead>\n",
       "  <tbody>\n",
       "    <tr>\n",
       "      <th>0</th>\n",
       "      <td>0</td>\n",
       "      <td>3</td>\n",
       "      <td>Braund, Mr. Owen Harris</td>\n",
       "      <td>male</td>\n",
       "      <td>22.0</td>\n",
       "      <td>1</td>\n",
       "      <td>0</td>\n",
       "      <td>A/5 21171</td>\n",
       "      <td>7.2500</td>\n",
       "      <td>NaN</td>\n",
       "      <td>0</td>\n",
       "      <td>0</td>\n",
       "      <td>1</td>\n",
       "    </tr>\n",
       "    <tr>\n",
       "      <th>1</th>\n",
       "      <td>1</td>\n",
       "      <td>1</td>\n",
       "      <td>Cumings, Mrs. John Bradley (Florence Briggs Th...</td>\n",
       "      <td>female</td>\n",
       "      <td>38.0</td>\n",
       "      <td>1</td>\n",
       "      <td>0</td>\n",
       "      <td>PC 17599</td>\n",
       "      <td>71.2833</td>\n",
       "      <td>C85</td>\n",
       "      <td>1</td>\n",
       "      <td>0</td>\n",
       "      <td>0</td>\n",
       "    </tr>\n",
       "    <tr>\n",
       "      <th>2</th>\n",
       "      <td>1</td>\n",
       "      <td>3</td>\n",
       "      <td>Heikkinen, Miss. Laina</td>\n",
       "      <td>female</td>\n",
       "      <td>26.0</td>\n",
       "      <td>0</td>\n",
       "      <td>0</td>\n",
       "      <td>STON/O2. 3101282</td>\n",
       "      <td>7.9250</td>\n",
       "      <td>NaN</td>\n",
       "      <td>0</td>\n",
       "      <td>0</td>\n",
       "      <td>1</td>\n",
       "    </tr>\n",
       "  </tbody>\n",
       "</table>\n",
       "</div>"
      ],
      "text/plain": [
       "   Survived  Pclass                                               Name  \\\n",
       "0         0       3                            Braund, Mr. Owen Harris   \n",
       "1         1       1  Cumings, Mrs. John Bradley (Florence Briggs Th...   \n",
       "2         1       3                             Heikkinen, Miss. Laina   \n",
       "\n",
       "      Sex   Age  SibSp  Parch            Ticket     Fare Cabin  C  Q  S  \n",
       "0    male  22.0      1      0         A/5 21171   7.2500   NaN  0  0  1  \n",
       "1  female  38.0      1      0          PC 17599  71.2833   C85  1  0  0  \n",
       "2  female  26.0      0      0  STON/O2. 3101282   7.9250   NaN  0  0  1  "
      ]
     },
     "execution_count": 24,
     "metadata": {},
     "output_type": "execute_result"
    }
   ],
   "source": [
    "# now we can convert the Embarked column to numeric\n",
    "# since we have 3 options like C, Q and S, we can use the one-hot-encoding\n",
    "# instead of the one hot encoding transformation from pandas we can use get_dummies from sklearn\n",
    "temp = pd.get_dummies(df['Embarked'])\n",
    "\n",
    "# now we can add the new columns to the original data frame\n",
    "df = pd.concat([df,temp],axis= 1)\n",
    "\n",
    "# we dont need the nominal column anymore, so lets remove it\n",
    "df.drop('Embarked', axis = 1, inplace = True)\n",
    "df.head(3)"
   ]
  },
  {
   "cell_type": "code",
   "execution_count": 25,
   "id": "dda22791",
   "metadata": {
    "execution": {
     "iopub.execute_input": "2023-03-21T12:32:02.541799Z",
     "iopub.status.busy": "2023-03-21T12:32:02.541340Z",
     "iopub.status.idle": "2023-03-21T12:32:02.564224Z",
     "shell.execute_reply": "2023-03-21T12:32:02.563002Z"
    },
    "papermill": {
     "duration": 0.04832,
     "end_time": "2023-03-21T12:32:02.566860",
     "exception": false,
     "start_time": "2023-03-21T12:32:02.518540",
     "status": "completed"
    },
    "tags": []
   },
   "outputs": [
    {
     "data": {
      "text/html": [
       "<div>\n",
       "<style scoped>\n",
       "    .dataframe tbody tr th:only-of-type {\n",
       "        vertical-align: middle;\n",
       "    }\n",
       "\n",
       "    .dataframe tbody tr th {\n",
       "        vertical-align: top;\n",
       "    }\n",
       "\n",
       "    .dataframe thead th {\n",
       "        text-align: right;\n",
       "    }\n",
       "</style>\n",
       "<table border=\"1\" class=\"dataframe\">\n",
       "  <thead>\n",
       "    <tr style=\"text-align: right;\">\n",
       "      <th></th>\n",
       "      <th>Survived</th>\n",
       "      <th>Pclass</th>\n",
       "      <th>Name</th>\n",
       "      <th>Age</th>\n",
       "      <th>SibSp</th>\n",
       "      <th>Parch</th>\n",
       "      <th>Ticket</th>\n",
       "      <th>Fare</th>\n",
       "      <th>Cabin</th>\n",
       "      <th>C</th>\n",
       "      <th>Q</th>\n",
       "      <th>S</th>\n",
       "      <th>Sex</th>\n",
       "    </tr>\n",
       "  </thead>\n",
       "  <tbody>\n",
       "    <tr>\n",
       "      <th>0</th>\n",
       "      <td>0</td>\n",
       "      <td>3</td>\n",
       "      <td>Braund, Mr. Owen Harris</td>\n",
       "      <td>22.0</td>\n",
       "      <td>1</td>\n",
       "      <td>0</td>\n",
       "      <td>A/5 21171</td>\n",
       "      <td>7.2500</td>\n",
       "      <td>NaN</td>\n",
       "      <td>0</td>\n",
       "      <td>0</td>\n",
       "      <td>1</td>\n",
       "      <td>1</td>\n",
       "    </tr>\n",
       "    <tr>\n",
       "      <th>1</th>\n",
       "      <td>1</td>\n",
       "      <td>1</td>\n",
       "      <td>Cumings, Mrs. John Bradley (Florence Briggs Th...</td>\n",
       "      <td>38.0</td>\n",
       "      <td>1</td>\n",
       "      <td>0</td>\n",
       "      <td>PC 17599</td>\n",
       "      <td>71.2833</td>\n",
       "      <td>C85</td>\n",
       "      <td>1</td>\n",
       "      <td>0</td>\n",
       "      <td>0</td>\n",
       "      <td>0</td>\n",
       "    </tr>\n",
       "    <tr>\n",
       "      <th>2</th>\n",
       "      <td>1</td>\n",
       "      <td>3</td>\n",
       "      <td>Heikkinen, Miss. Laina</td>\n",
       "      <td>26.0</td>\n",
       "      <td>0</td>\n",
       "      <td>0</td>\n",
       "      <td>STON/O2. 3101282</td>\n",
       "      <td>7.9250</td>\n",
       "      <td>NaN</td>\n",
       "      <td>0</td>\n",
       "      <td>0</td>\n",
       "      <td>1</td>\n",
       "      <td>0</td>\n",
       "    </tr>\n",
       "  </tbody>\n",
       "</table>\n",
       "</div>"
      ],
      "text/plain": [
       "   Survived  Pclass                                               Name   Age  \\\n",
       "0         0       3                            Braund, Mr. Owen Harris  22.0   \n",
       "1         1       1  Cumings, Mrs. John Bradley (Florence Briggs Th...  38.0   \n",
       "2         1       3                             Heikkinen, Miss. Laina  26.0   \n",
       "\n",
       "   SibSp  Parch            Ticket     Fare Cabin  C  Q  S  Sex  \n",
       "0      1      0         A/5 21171   7.2500   NaN  0  0  1    1  \n",
       "1      1      0          PC 17599  71.2833   C85  1  0  0    0  \n",
       "2      0      0  STON/O2. 3101282   7.9250   NaN  0  0  1    0  "
      ]
     },
     "execution_count": 25,
     "metadata": {},
     "output_type": "execute_result"
    }
   ],
   "source": [
    "# similar to the 'Embarked' column, we transform the Sex column to numeric\n",
    "# this case we have a risk of dummy variable trap\n",
    "# so we simply use the pandas replacer\n",
    "temp = df['Sex'].replace({'male':1,'female':0})\n",
    "\n",
    "# remove the nominal column from data set\n",
    "df.drop('Sex',axis = 1,inplace=True)\n",
    "\n",
    "# add transformed data set to the original dataset\n",
    "df  = pd.concat([df,temp],axis = 1)\n",
    "df.head(3)"
   ]
  },
  {
   "cell_type": "markdown",
   "id": "1dabcab7",
   "metadata": {
    "papermill": {
     "duration": 0.020957,
     "end_time": "2023-03-21T12:32:02.609194",
     "exception": false,
     "start_time": "2023-03-21T12:32:02.588237",
     "status": "completed"
    },
    "tags": []
   },
   "source": [
    "**The Dummy Variable Trap** occurs when two or more dummy variables created by one-hot encoding are highly correlated (multi-collinear). This means that one variable can be predicted from the others, making it difficult to interpret predicted coefficient variables in regression models. In other words, the individual effect of the dummy variables on the prediction model can not be interpreted well because of multicollinearity.\n",
    "\n",
    "Using the one-hot encoding method, a new dummy variable is created for each categorical variable to represent the presence (1) or absence (0) of the categorical variable. For example, if tree species is a categorical variable made up of the values pine or oak, then tree species can be represented as a dummy variable by converting each variable to a one-hot vector. This means that a separate column is obtained for each category, where the first column represents if the tree is pine and the second column represents if the tree is oak. Each column will contain a 0 or 1 if the tree in question is of the column's species. These two columns are multi-collinear since if a tree is pine, then we know it's not oak and vice versa."
   ]
  },
  {
   "cell_type": "code",
   "execution_count": 26,
   "id": "5e26d242",
   "metadata": {
    "execution": {
     "iopub.execute_input": "2023-03-21T12:32:02.654085Z",
     "iopub.status.busy": "2023-03-21T12:32:02.653646Z",
     "iopub.status.idle": "2023-03-21T12:32:02.674397Z",
     "shell.execute_reply": "2023-03-21T12:32:02.673250Z"
    },
    "papermill": {
     "duration": 0.045986,
     "end_time": "2023-03-21T12:32:02.676878",
     "exception": false,
     "start_time": "2023-03-21T12:32:02.630892",
     "status": "completed"
    },
    "tags": []
   },
   "outputs": [
    {
     "data": {
      "text/html": [
       "<div>\n",
       "<style scoped>\n",
       "    .dataframe tbody tr th:only-of-type {\n",
       "        vertical-align: middle;\n",
       "    }\n",
       "\n",
       "    .dataframe tbody tr th {\n",
       "        vertical-align: top;\n",
       "    }\n",
       "\n",
       "    .dataframe thead th {\n",
       "        text-align: right;\n",
       "    }\n",
       "</style>\n",
       "<table border=\"1\" class=\"dataframe\">\n",
       "  <thead>\n",
       "    <tr style=\"text-align: right;\">\n",
       "      <th></th>\n",
       "      <th>Survived</th>\n",
       "      <th>Pclass</th>\n",
       "      <th>Age</th>\n",
       "      <th>SibSp</th>\n",
       "      <th>Parch</th>\n",
       "      <th>Fare</th>\n",
       "      <th>C</th>\n",
       "      <th>Q</th>\n",
       "      <th>S</th>\n",
       "      <th>Sex</th>\n",
       "    </tr>\n",
       "  </thead>\n",
       "  <tbody>\n",
       "    <tr>\n",
       "      <th>Survived</th>\n",
       "      <td>1.000000</td>\n",
       "      <td>-0.338481</td>\n",
       "      <td>-0.077221</td>\n",
       "      <td>-0.035322</td>\n",
       "      <td>0.081629</td>\n",
       "      <td>0.257307</td>\n",
       "      <td>0.168240</td>\n",
       "      <td>0.003650</td>\n",
       "      <td>-0.155660</td>\n",
       "      <td>-0.543351</td>\n",
       "    </tr>\n",
       "    <tr>\n",
       "      <th>Pclass</th>\n",
       "      <td>-0.338481</td>\n",
       "      <td>1.000000</td>\n",
       "      <td>-0.369226</td>\n",
       "      <td>0.083081</td>\n",
       "      <td>0.018443</td>\n",
       "      <td>-0.549500</td>\n",
       "      <td>-0.243292</td>\n",
       "      <td>0.221009</td>\n",
       "      <td>0.081720</td>\n",
       "      <td>0.131900</td>\n",
       "    </tr>\n",
       "    <tr>\n",
       "      <th>Age</th>\n",
       "      <td>-0.077221</td>\n",
       "      <td>-0.369226</td>\n",
       "      <td>1.000000</td>\n",
       "      <td>-0.308247</td>\n",
       "      <td>-0.189119</td>\n",
       "      <td>0.096067</td>\n",
       "      <td>0.036261</td>\n",
       "      <td>-0.022405</td>\n",
       "      <td>-0.032523</td>\n",
       "      <td>0.093254</td>\n",
       "    </tr>\n",
       "    <tr>\n",
       "      <th>SibSp</th>\n",
       "      <td>-0.035322</td>\n",
       "      <td>0.083081</td>\n",
       "      <td>-0.308247</td>\n",
       "      <td>1.000000</td>\n",
       "      <td>0.414838</td>\n",
       "      <td>0.159651</td>\n",
       "      <td>-0.059528</td>\n",
       "      <td>-0.026354</td>\n",
       "      <td>0.070941</td>\n",
       "      <td>-0.114631</td>\n",
       "    </tr>\n",
       "    <tr>\n",
       "      <th>Parch</th>\n",
       "      <td>0.081629</td>\n",
       "      <td>0.018443</td>\n",
       "      <td>-0.189119</td>\n",
       "      <td>0.414838</td>\n",
       "      <td>1.000000</td>\n",
       "      <td>0.216225</td>\n",
       "      <td>-0.011069</td>\n",
       "      <td>-0.081228</td>\n",
       "      <td>0.063036</td>\n",
       "      <td>-0.245489</td>\n",
       "    </tr>\n",
       "    <tr>\n",
       "      <th>Fare</th>\n",
       "      <td>0.257307</td>\n",
       "      <td>-0.549500</td>\n",
       "      <td>0.096067</td>\n",
       "      <td>0.159651</td>\n",
       "      <td>0.216225</td>\n",
       "      <td>1.000000</td>\n",
       "      <td>0.269335</td>\n",
       "      <td>-0.117216</td>\n",
       "      <td>-0.166603</td>\n",
       "      <td>-0.182333</td>\n",
       "    </tr>\n",
       "    <tr>\n",
       "      <th>C</th>\n",
       "      <td>0.168240</td>\n",
       "      <td>-0.243292</td>\n",
       "      <td>0.036261</td>\n",
       "      <td>-0.059528</td>\n",
       "      <td>-0.011069</td>\n",
       "      <td>0.269335</td>\n",
       "      <td>1.000000</td>\n",
       "      <td>-0.148258</td>\n",
       "      <td>-0.778359</td>\n",
       "      <td>-0.082853</td>\n",
       "    </tr>\n",
       "    <tr>\n",
       "      <th>Q</th>\n",
       "      <td>0.003650</td>\n",
       "      <td>0.221009</td>\n",
       "      <td>-0.022405</td>\n",
       "      <td>-0.026354</td>\n",
       "      <td>-0.081228</td>\n",
       "      <td>-0.117216</td>\n",
       "      <td>-0.148258</td>\n",
       "      <td>1.000000</td>\n",
       "      <td>-0.496624</td>\n",
       "      <td>-0.074115</td>\n",
       "    </tr>\n",
       "    <tr>\n",
       "      <th>S</th>\n",
       "      <td>-0.155660</td>\n",
       "      <td>0.081720</td>\n",
       "      <td>-0.032523</td>\n",
       "      <td>0.070941</td>\n",
       "      <td>0.063036</td>\n",
       "      <td>-0.166603</td>\n",
       "      <td>-0.778359</td>\n",
       "      <td>-0.496624</td>\n",
       "      <td>1.000000</td>\n",
       "      <td>0.125722</td>\n",
       "    </tr>\n",
       "    <tr>\n",
       "      <th>Sex</th>\n",
       "      <td>-0.543351</td>\n",
       "      <td>0.131900</td>\n",
       "      <td>0.093254</td>\n",
       "      <td>-0.114631</td>\n",
       "      <td>-0.245489</td>\n",
       "      <td>-0.182333</td>\n",
       "      <td>-0.082853</td>\n",
       "      <td>-0.074115</td>\n",
       "      <td>0.125722</td>\n",
       "      <td>1.000000</td>\n",
       "    </tr>\n",
       "  </tbody>\n",
       "</table>\n",
       "</div>"
      ],
      "text/plain": [
       "          Survived    Pclass       Age     SibSp     Parch      Fare  \\\n",
       "Survived  1.000000 -0.338481 -0.077221 -0.035322  0.081629  0.257307   \n",
       "Pclass   -0.338481  1.000000 -0.369226  0.083081  0.018443 -0.549500   \n",
       "Age      -0.077221 -0.369226  1.000000 -0.308247 -0.189119  0.096067   \n",
       "SibSp    -0.035322  0.083081 -0.308247  1.000000  0.414838  0.159651   \n",
       "Parch     0.081629  0.018443 -0.189119  0.414838  1.000000  0.216225   \n",
       "Fare      0.257307 -0.549500  0.096067  0.159651  0.216225  1.000000   \n",
       "C         0.168240 -0.243292  0.036261 -0.059528 -0.011069  0.269335   \n",
       "Q         0.003650  0.221009 -0.022405 -0.026354 -0.081228 -0.117216   \n",
       "S        -0.155660  0.081720 -0.032523  0.070941  0.063036 -0.166603   \n",
       "Sex      -0.543351  0.131900  0.093254 -0.114631 -0.245489 -0.182333   \n",
       "\n",
       "                 C         Q         S       Sex  \n",
       "Survived  0.168240  0.003650 -0.155660 -0.543351  \n",
       "Pclass   -0.243292  0.221009  0.081720  0.131900  \n",
       "Age       0.036261 -0.022405 -0.032523  0.093254  \n",
       "SibSp    -0.059528 -0.026354  0.070941 -0.114631  \n",
       "Parch    -0.011069 -0.081228  0.063036 -0.245489  \n",
       "Fare      0.269335 -0.117216 -0.166603 -0.182333  \n",
       "C         1.000000 -0.148258 -0.778359 -0.082853  \n",
       "Q        -0.148258  1.000000 -0.496624 -0.074115  \n",
       "S        -0.778359 -0.496624  1.000000  0.125722  \n",
       "Sex      -0.082853 -0.074115  0.125722  1.000000  "
      ]
     },
     "execution_count": 26,
     "metadata": {},
     "output_type": "execute_result"
    }
   ],
   "source": [
    "# lets see the new correlation matrix\n",
    "df.corr()"
   ]
  },
  {
   "cell_type": "code",
   "execution_count": 27,
   "id": "ef2ef774",
   "metadata": {
    "execution": {
     "iopub.execute_input": "2023-03-21T12:32:02.722811Z",
     "iopub.status.busy": "2023-03-21T12:32:02.721587Z",
     "iopub.status.idle": "2023-03-21T12:32:02.731961Z",
     "shell.execute_reply": "2023-03-21T12:32:02.730540Z"
    },
    "papermill": {
     "duration": 0.036363,
     "end_time": "2023-03-21T12:32:02.734954",
     "exception": false,
     "start_time": "2023-03-21T12:32:02.698591",
     "status": "completed"
    },
    "tags": []
   },
   "outputs": [
    {
     "data": {
      "text/plain": [
       "Survived      int64\n",
       "Pclass        int64\n",
       "Name         object\n",
       "Age         float64\n",
       "SibSp         int64\n",
       "Parch         int64\n",
       "Ticket       object\n",
       "Fare        float64\n",
       "Cabin        object\n",
       "C             uint8\n",
       "Q             uint8\n",
       "S             uint8\n",
       "Sex           int64\n",
       "dtype: object"
      ]
     },
     "execution_count": 27,
     "metadata": {},
     "output_type": "execute_result"
    }
   ],
   "source": [
    "df.dtypes"
   ]
  },
  {
   "cell_type": "code",
   "execution_count": 28,
   "id": "bbdbe8cb",
   "metadata": {
    "execution": {
     "iopub.execute_input": "2023-03-21T12:32:02.781334Z",
     "iopub.status.busy": "2023-03-21T12:32:02.780120Z",
     "iopub.status.idle": "2023-03-21T12:32:02.789659Z",
     "shell.execute_reply": "2023-03-21T12:32:02.788393Z"
    },
    "papermill": {
     "duration": 0.035221,
     "end_time": "2023-03-21T12:32:02.792188",
     "exception": false,
     "start_time": "2023-03-21T12:32:02.756967",
     "status": "completed"
    },
    "tags": []
   },
   "outputs": [
    {
     "data": {
      "text/plain": [
       "0                              Braund, Mr. Owen Harris\n",
       "1    Cumings, Mrs. John Bradley (Florence Briggs Th...\n",
       "2                               Heikkinen, Miss. Laina\n",
       "3         Futrelle, Mrs. Jacques Heath (Lily May Peel)\n",
       "4                             Allen, Mr. William Henry\n",
       "Name: Name, dtype: object"
      ]
     },
     "execution_count": 28,
     "metadata": {},
     "output_type": "execute_result"
    }
   ],
   "source": [
    "# now we have 3 more columns to convert numeric, lets continue with name\n",
    "df['Name'].head()"
   ]
  },
  {
   "cell_type": "markdown",
   "id": "41b8b6d3",
   "metadata": {
    "papermill": {
     "duration": 0.021538,
     "end_time": "2023-03-21T12:32:02.835717",
     "exception": false,
     "start_time": "2023-03-21T12:32:02.814179",
     "status": "completed"
    },
    "tags": []
   },
   "source": [
    "Name column is similar to the ID column and most of the time we dont use it as an input to the machine learning algorithms. But it provides useful information sometimes. For example you can extract the gender, or ethnicity from the names of people. For the titanic data set we will use the titles like Mr., Dr. or Sir in the names. "
   ]
  },
  {
   "cell_type": "code",
   "execution_count": 29,
   "id": "2488eccb",
   "metadata": {
    "execution": {
     "iopub.execute_input": "2023-03-21T12:32:02.881342Z",
     "iopub.status.busy": "2023-03-21T12:32:02.880935Z",
     "iopub.status.idle": "2023-03-21T12:32:02.906629Z",
     "shell.execute_reply": "2023-03-21T12:32:02.905405Z"
    },
    "papermill": {
     "duration": 0.051675,
     "end_time": "2023-03-21T12:32:02.909235",
     "exception": false,
     "start_time": "2023-03-21T12:32:02.857560",
     "status": "completed"
    },
    "tags": []
   },
   "outputs": [
    {
     "data": {
      "text/html": [
       "<div>\n",
       "<style scoped>\n",
       "    .dataframe tbody tr th:only-of-type {\n",
       "        vertical-align: middle;\n",
       "    }\n",
       "\n",
       "    .dataframe tbody tr th {\n",
       "        vertical-align: top;\n",
       "    }\n",
       "\n",
       "    .dataframe thead th {\n",
       "        text-align: right;\n",
       "    }\n",
       "</style>\n",
       "<table border=\"1\" class=\"dataframe\">\n",
       "  <thead>\n",
       "    <tr style=\"text-align: right;\">\n",
       "      <th></th>\n",
       "      <th>Survived</th>\n",
       "      <th>Pclass</th>\n",
       "      <th>Age</th>\n",
       "      <th>SibSp</th>\n",
       "      <th>Parch</th>\n",
       "      <th>Ticket</th>\n",
       "      <th>Fare</th>\n",
       "      <th>Cabin</th>\n",
       "      <th>C</th>\n",
       "      <th>Q</th>\n",
       "      <th>S</th>\n",
       "      <th>Sex</th>\n",
       "      <th>Name</th>\n",
       "    </tr>\n",
       "  </thead>\n",
       "  <tbody>\n",
       "    <tr>\n",
       "      <th>0</th>\n",
       "      <td>0</td>\n",
       "      <td>3</td>\n",
       "      <td>22.0</td>\n",
       "      <td>1</td>\n",
       "      <td>0</td>\n",
       "      <td>A/5 21171</td>\n",
       "      <td>7.2500</td>\n",
       "      <td>NaN</td>\n",
       "      <td>0</td>\n",
       "      <td>0</td>\n",
       "      <td>1</td>\n",
       "      <td>1</td>\n",
       "      <td>1</td>\n",
       "    </tr>\n",
       "    <tr>\n",
       "      <th>1</th>\n",
       "      <td>1</td>\n",
       "      <td>1</td>\n",
       "      <td>38.0</td>\n",
       "      <td>1</td>\n",
       "      <td>0</td>\n",
       "      <td>PC 17599</td>\n",
       "      <td>71.2833</td>\n",
       "      <td>C85</td>\n",
       "      <td>1</td>\n",
       "      <td>0</td>\n",
       "      <td>0</td>\n",
       "      <td>0</td>\n",
       "      <td>0</td>\n",
       "    </tr>\n",
       "    <tr>\n",
       "      <th>2</th>\n",
       "      <td>1</td>\n",
       "      <td>3</td>\n",
       "      <td>26.0</td>\n",
       "      <td>0</td>\n",
       "      <td>0</td>\n",
       "      <td>STON/O2. 3101282</td>\n",
       "      <td>7.9250</td>\n",
       "      <td>NaN</td>\n",
       "      <td>0</td>\n",
       "      <td>0</td>\n",
       "      <td>1</td>\n",
       "      <td>0</td>\n",
       "      <td>0</td>\n",
       "    </tr>\n",
       "  </tbody>\n",
       "</table>\n",
       "</div>"
      ],
      "text/plain": [
       "   Survived  Pclass   Age  SibSp  Parch            Ticket     Fare Cabin  C  \\\n",
       "0         0       3  22.0      1      0         A/5 21171   7.2500   NaN  0   \n",
       "1         1       1  38.0      1      0          PC 17599  71.2833   C85  1   \n",
       "2         1       3  26.0      0      0  STON/O2. 3101282   7.9250   NaN  0   \n",
       "\n",
       "   Q  S  Sex  Name  \n",
       "0  0  1    1     1  \n",
       "1  0  0    0     0  \n",
       "2  0  1    0     0  "
      ]
     },
     "execution_count": 29,
     "metadata": {},
     "output_type": "execute_result"
    }
   ],
   "source": [
    "#lets check if the name column contains any of these titles.\n",
    "temp = df['Name'].str.contains('Mr\\.') | df['Name'].str.contains('Dr\\.') | df['Name'].str.contains('Sir')\n",
    "# please note that we use \\ symbol before . because it is a regular expression\n",
    "\n",
    "#now lets convert the outcome to numeric\n",
    "temp = temp.to_frame().replace({True:1,False:0})\n",
    "\n",
    "#remove the original name column now, we dont neet it anymore\n",
    "df.drop('Name',axis = 1,inplace = True)\n",
    "\n",
    "#concatenate the original data frame with the titles\n",
    "df = pd.concat([df,temp],axis = 1)\n",
    "df.head(3)"
   ]
  },
  {
   "cell_type": "code",
   "execution_count": 30,
   "id": "19bba2b1",
   "metadata": {
    "execution": {
     "iopub.execute_input": "2023-03-21T12:32:02.956742Z",
     "iopub.status.busy": "2023-03-21T12:32:02.956215Z",
     "iopub.status.idle": "2023-03-21T12:32:02.978575Z",
     "shell.execute_reply": "2023-03-21T12:32:02.977290Z"
    },
    "papermill": {
     "duration": 0.049285,
     "end_time": "2023-03-21T12:32:02.981373",
     "exception": false,
     "start_time": "2023-03-21T12:32:02.932088",
     "status": "completed"
    },
    "tags": []
   },
   "outputs": [
    {
     "data": {
      "text/html": [
       "<div>\n",
       "<style scoped>\n",
       "    .dataframe tbody tr th:only-of-type {\n",
       "        vertical-align: middle;\n",
       "    }\n",
       "\n",
       "    .dataframe tbody tr th {\n",
       "        vertical-align: top;\n",
       "    }\n",
       "\n",
       "    .dataframe thead th {\n",
       "        text-align: right;\n",
       "    }\n",
       "</style>\n",
       "<table border=\"1\" class=\"dataframe\">\n",
       "  <thead>\n",
       "    <tr style=\"text-align: right;\">\n",
       "      <th></th>\n",
       "      <th>Survived</th>\n",
       "      <th>Pclass</th>\n",
       "      <th>Age</th>\n",
       "      <th>SibSp</th>\n",
       "      <th>Parch</th>\n",
       "      <th>Fare</th>\n",
       "      <th>C</th>\n",
       "      <th>Q</th>\n",
       "      <th>S</th>\n",
       "      <th>Sex</th>\n",
       "      <th>Name</th>\n",
       "    </tr>\n",
       "  </thead>\n",
       "  <tbody>\n",
       "    <tr>\n",
       "      <th>Survived</th>\n",
       "      <td>1.000000</td>\n",
       "      <td>-0.338481</td>\n",
       "      <td>-0.077221</td>\n",
       "      <td>-0.035322</td>\n",
       "      <td>0.081629</td>\n",
       "      <td>0.257307</td>\n",
       "      <td>0.168240</td>\n",
       "      <td>0.003650</td>\n",
       "      <td>-0.155660</td>\n",
       "      <td>-0.543351</td>\n",
       "      <td>-0.546564</td>\n",
       "    </tr>\n",
       "    <tr>\n",
       "      <th>Pclass</th>\n",
       "      <td>-0.338481</td>\n",
       "      <td>1.000000</td>\n",
       "      <td>-0.369226</td>\n",
       "      <td>0.083081</td>\n",
       "      <td>0.018443</td>\n",
       "      <td>-0.549500</td>\n",
       "      <td>-0.243292</td>\n",
       "      <td>0.221009</td>\n",
       "      <td>0.081720</td>\n",
       "      <td>0.131900</td>\n",
       "      <td>0.120024</td>\n",
       "    </tr>\n",
       "    <tr>\n",
       "      <th>Age</th>\n",
       "      <td>-0.077221</td>\n",
       "      <td>-0.369226</td>\n",
       "      <td>1.000000</td>\n",
       "      <td>-0.308247</td>\n",
       "      <td>-0.189119</td>\n",
       "      <td>0.096067</td>\n",
       "      <td>0.036261</td>\n",
       "      <td>-0.022405</td>\n",
       "      <td>-0.032523</td>\n",
       "      <td>0.093254</td>\n",
       "      <td>0.224985</td>\n",
       "    </tr>\n",
       "    <tr>\n",
       "      <th>SibSp</th>\n",
       "      <td>-0.035322</td>\n",
       "      <td>0.083081</td>\n",
       "      <td>-0.308247</td>\n",
       "      <td>1.000000</td>\n",
       "      <td>0.414838</td>\n",
       "      <td>0.159651</td>\n",
       "      <td>-0.059528</td>\n",
       "      <td>-0.026354</td>\n",
       "      <td>0.070941</td>\n",
       "      <td>-0.114631</td>\n",
       "      <td>-0.249587</td>\n",
       "    </tr>\n",
       "    <tr>\n",
       "      <th>Parch</th>\n",
       "      <td>0.081629</td>\n",
       "      <td>0.018443</td>\n",
       "      <td>-0.189119</td>\n",
       "      <td>0.414838</td>\n",
       "      <td>1.000000</td>\n",
       "      <td>0.216225</td>\n",
       "      <td>-0.011069</td>\n",
       "      <td>-0.081228</td>\n",
       "      <td>0.063036</td>\n",
       "      <td>-0.245489</td>\n",
       "      <td>-0.343597</td>\n",
       "    </tr>\n",
       "    <tr>\n",
       "      <th>Fare</th>\n",
       "      <td>0.257307</td>\n",
       "      <td>-0.549500</td>\n",
       "      <td>0.096067</td>\n",
       "      <td>0.159651</td>\n",
       "      <td>0.216225</td>\n",
       "      <td>1.000000</td>\n",
       "      <td>0.269335</td>\n",
       "      <td>-0.117216</td>\n",
       "      <td>-0.166603</td>\n",
       "      <td>-0.182333</td>\n",
       "      <td>-0.177752</td>\n",
       "    </tr>\n",
       "    <tr>\n",
       "      <th>C</th>\n",
       "      <td>0.168240</td>\n",
       "      <td>-0.243292</td>\n",
       "      <td>0.036261</td>\n",
       "      <td>-0.059528</td>\n",
       "      <td>-0.011069</td>\n",
       "      <td>0.269335</td>\n",
       "      <td>1.000000</td>\n",
       "      <td>-0.148258</td>\n",
       "      <td>-0.778359</td>\n",
       "      <td>-0.082853</td>\n",
       "      <td>-0.064095</td>\n",
       "    </tr>\n",
       "    <tr>\n",
       "      <th>Q</th>\n",
       "      <td>0.003650</td>\n",
       "      <td>0.221009</td>\n",
       "      <td>-0.022405</td>\n",
       "      <td>-0.026354</td>\n",
       "      <td>-0.081228</td>\n",
       "      <td>-0.117216</td>\n",
       "      <td>-0.148258</td>\n",
       "      <td>1.000000</td>\n",
       "      <td>-0.496624</td>\n",
       "      <td>-0.074115</td>\n",
       "      <td>-0.076078</td>\n",
       "    </tr>\n",
       "    <tr>\n",
       "      <th>S</th>\n",
       "      <td>-0.155660</td>\n",
       "      <td>0.081720</td>\n",
       "      <td>-0.032523</td>\n",
       "      <td>0.070941</td>\n",
       "      <td>0.063036</td>\n",
       "      <td>-0.166603</td>\n",
       "      <td>-0.778359</td>\n",
       "      <td>-0.496624</td>\n",
       "      <td>1.000000</td>\n",
       "      <td>0.125722</td>\n",
       "      <td>0.109771</td>\n",
       "    </tr>\n",
       "    <tr>\n",
       "      <th>Sex</th>\n",
       "      <td>-0.543351</td>\n",
       "      <td>0.131900</td>\n",
       "      <td>0.093254</td>\n",
       "      <td>-0.114631</td>\n",
       "      <td>-0.245489</td>\n",
       "      <td>-0.182333</td>\n",
       "      <td>-0.082853</td>\n",
       "      <td>-0.074115</td>\n",
       "      <td>0.125722</td>\n",
       "      <td>1.000000</td>\n",
       "      <td>0.878744</td>\n",
       "    </tr>\n",
       "    <tr>\n",
       "      <th>Name</th>\n",
       "      <td>-0.546564</td>\n",
       "      <td>0.120024</td>\n",
       "      <td>0.224985</td>\n",
       "      <td>-0.249587</td>\n",
       "      <td>-0.343597</td>\n",
       "      <td>-0.177752</td>\n",
       "      <td>-0.064095</td>\n",
       "      <td>-0.076078</td>\n",
       "      <td>0.109771</td>\n",
       "      <td>0.878744</td>\n",
       "      <td>1.000000</td>\n",
       "    </tr>\n",
       "  </tbody>\n",
       "</table>\n",
       "</div>"
      ],
      "text/plain": [
       "          Survived    Pclass       Age     SibSp     Parch      Fare  \\\n",
       "Survived  1.000000 -0.338481 -0.077221 -0.035322  0.081629  0.257307   \n",
       "Pclass   -0.338481  1.000000 -0.369226  0.083081  0.018443 -0.549500   \n",
       "Age      -0.077221 -0.369226  1.000000 -0.308247 -0.189119  0.096067   \n",
       "SibSp    -0.035322  0.083081 -0.308247  1.000000  0.414838  0.159651   \n",
       "Parch     0.081629  0.018443 -0.189119  0.414838  1.000000  0.216225   \n",
       "Fare      0.257307 -0.549500  0.096067  0.159651  0.216225  1.000000   \n",
       "C         0.168240 -0.243292  0.036261 -0.059528 -0.011069  0.269335   \n",
       "Q         0.003650  0.221009 -0.022405 -0.026354 -0.081228 -0.117216   \n",
       "S        -0.155660  0.081720 -0.032523  0.070941  0.063036 -0.166603   \n",
       "Sex      -0.543351  0.131900  0.093254 -0.114631 -0.245489 -0.182333   \n",
       "Name     -0.546564  0.120024  0.224985 -0.249587 -0.343597 -0.177752   \n",
       "\n",
       "                 C         Q         S       Sex      Name  \n",
       "Survived  0.168240  0.003650 -0.155660 -0.543351 -0.546564  \n",
       "Pclass   -0.243292  0.221009  0.081720  0.131900  0.120024  \n",
       "Age       0.036261 -0.022405 -0.032523  0.093254  0.224985  \n",
       "SibSp    -0.059528 -0.026354  0.070941 -0.114631 -0.249587  \n",
       "Parch    -0.011069 -0.081228  0.063036 -0.245489 -0.343597  \n",
       "Fare      0.269335 -0.117216 -0.166603 -0.182333 -0.177752  \n",
       "C         1.000000 -0.148258 -0.778359 -0.082853 -0.064095  \n",
       "Q        -0.148258  1.000000 -0.496624 -0.074115 -0.076078  \n",
       "S        -0.778359 -0.496624  1.000000  0.125722  0.109771  \n",
       "Sex      -0.082853 -0.074115  0.125722  1.000000  0.878744  \n",
       "Name     -0.064095 -0.076078  0.109771  0.878744  1.000000  "
      ]
     },
     "execution_count": 30,
     "metadata": {},
     "output_type": "execute_result"
    }
   ],
   "source": [
    "# lets see the correlation of new dataframe\n",
    "df.corr()"
   ]
  },
  {
   "cell_type": "code",
   "execution_count": 31,
   "id": "f369ab47",
   "metadata": {
    "execution": {
     "iopub.execute_input": "2023-03-21T12:32:03.030058Z",
     "iopub.status.busy": "2023-03-21T12:32:03.029652Z",
     "iopub.status.idle": "2023-03-21T12:32:03.983492Z",
     "shell.execute_reply": "2023-03-21T12:32:03.982524Z"
    },
    "papermill": {
     "duration": 0.98181,
     "end_time": "2023-03-21T12:32:03.986148",
     "exception": false,
     "start_time": "2023-03-21T12:32:03.004338",
     "status": "completed"
    },
    "tags": []
   },
   "outputs": [
    {
     "data": {
      "text/plain": [
       "<AxesSubplot:>"
      ]
     },
     "execution_count": 31,
     "metadata": {},
     "output_type": "execute_result"
    },
    {
     "data": {
      "image/png": "[encoded data removed]",
      "text/plain": [
       "<Figure size 640x480 with 2 Axes>"
      ]
     },
     "metadata": {},
     "output_type": "display_data"
    }
   ],
   "source": [
    "#  lets also draw the heat map of the correlation matrix now\n",
    "sns.heatmap(\n",
    "    df.corr(),          # The data to plot\n",
    "    cmap=cmap,     # What colors to plot the heatmap as\n",
    "    annot=True,    # Should the values be plotted in the cells?\n",
    "    vmax=.3,       # The maximum value of the legend. All higher vals will be same color\n",
    "    vmin=-.3,      # The minimum value of the legend. All lower vals will be same color\n",
    "    center=0,      # The center value of the legend. With divergent cmap, where white is\n",
    "    square=True,   # Force cells to be square\n",
    "    linewidths=.5, # Width of lines that divide cells\n",
    "    cbar_kws={\"shrink\": .5}  # Extra kwargs for the legend; in this case, shrink by 50%\n",
    ")"
   ]
  },
  {
   "cell_type": "markdown",
   "id": "5ce19c98",
   "metadata": {
    "papermill": {
     "duration": 0.027536,
     "end_time": "2023-03-21T12:32:04.040074",
     "exception": false,
     "start_time": "2023-03-21T12:32:04.012538",
     "status": "completed"
    },
    "tags": []
   },
   "source": [
    "Above correlation matrix, show the newly added name colum (which is the title column in fact) has the highest correlation with the target column, Survived. Also the Sex and Name columns are highly correlated. "
   ]
  },
  {
   "cell_type": "code",
   "execution_count": 32,
   "id": "6f2fb434",
   "metadata": {
    "execution": {
     "iopub.execute_input": "2023-03-21T12:32:04.091547Z",
     "iopub.status.busy": "2023-03-21T12:32:04.090713Z",
     "iopub.status.idle": "2023-03-21T12:32:04.099506Z",
     "shell.execute_reply": "2023-03-21T12:32:04.098431Z"
    },
    "papermill": {
     "duration": 0.037315,
     "end_time": "2023-03-21T12:32:04.101819",
     "exception": false,
     "start_time": "2023-03-21T12:32:04.064504",
     "status": "completed"
    },
    "tags": []
   },
   "outputs": [
    {
     "data": {
      "text/plain": [
       "Survived      int64\n",
       "Pclass        int64\n",
       "Age         float64\n",
       "SibSp         int64\n",
       "Parch         int64\n",
       "Ticket       object\n",
       "Fare        float64\n",
       "Cabin        object\n",
       "C             uint8\n",
       "Q             uint8\n",
       "S             uint8\n",
       "Sex           int64\n",
       "Name          int64\n",
       "dtype: object"
      ]
     },
     "execution_count": 32,
     "metadata": {},
     "output_type": "execute_result"
    }
   ],
   "source": [
    "#finally we have 2 more columns in categoric form, the Cabin and Ticket, I dont have any idea about \n",
    "# the Cabin or ticket or any ways to convert them to numeric so I will drop them.\n",
    "df.dtypes"
   ]
  },
  {
   "cell_type": "code",
   "execution_count": 33,
   "id": "3b32f2df",
   "metadata": {
    "execution": {
     "iopub.execute_input": "2023-03-21T12:32:04.153334Z",
     "iopub.status.busy": "2023-03-21T12:32:04.152540Z",
     "iopub.status.idle": "2023-03-21T12:32:04.168508Z",
     "shell.execute_reply": "2023-03-21T12:32:04.167312Z"
    },
    "papermill": {
     "duration": 0.044947,
     "end_time": "2023-03-21T12:32:04.171243",
     "exception": false,
     "start_time": "2023-03-21T12:32:04.126296",
     "status": "completed"
    },
    "tags": []
   },
   "outputs": [
    {
     "data": {
      "text/html": [
       "<div>\n",
       "<style scoped>\n",
       "    .dataframe tbody tr th:only-of-type {\n",
       "        vertical-align: middle;\n",
       "    }\n",
       "\n",
       "    .dataframe tbody tr th {\n",
       "        vertical-align: top;\n",
       "    }\n",
       "\n",
       "    .dataframe thead th {\n",
       "        text-align: right;\n",
       "    }\n",
       "</style>\n",
       "<table border=\"1\" class=\"dataframe\">\n",
       "  <thead>\n",
       "    <tr style=\"text-align: right;\">\n",
       "      <th></th>\n",
       "      <th>Survived</th>\n",
       "      <th>Pclass</th>\n",
       "      <th>Age</th>\n",
       "      <th>SibSp</th>\n",
       "      <th>Parch</th>\n",
       "      <th>Fare</th>\n",
       "      <th>C</th>\n",
       "      <th>Q</th>\n",
       "      <th>S</th>\n",
       "      <th>Sex</th>\n",
       "      <th>Name</th>\n",
       "    </tr>\n",
       "  </thead>\n",
       "  <tbody>\n",
       "    <tr>\n",
       "      <th>0</th>\n",
       "      <td>0</td>\n",
       "      <td>3</td>\n",
       "      <td>22.0</td>\n",
       "      <td>1</td>\n",
       "      <td>0</td>\n",
       "      <td>7.2500</td>\n",
       "      <td>0</td>\n",
       "      <td>0</td>\n",
       "      <td>1</td>\n",
       "      <td>1</td>\n",
       "      <td>1</td>\n",
       "    </tr>\n",
       "    <tr>\n",
       "      <th>1</th>\n",
       "      <td>1</td>\n",
       "      <td>1</td>\n",
       "      <td>38.0</td>\n",
       "      <td>1</td>\n",
       "      <td>0</td>\n",
       "      <td>71.2833</td>\n",
       "      <td>1</td>\n",
       "      <td>0</td>\n",
       "      <td>0</td>\n",
       "      <td>0</td>\n",
       "      <td>0</td>\n",
       "    </tr>\n",
       "    <tr>\n",
       "      <th>2</th>\n",
       "      <td>1</td>\n",
       "      <td>3</td>\n",
       "      <td>26.0</td>\n",
       "      <td>0</td>\n",
       "      <td>0</td>\n",
       "      <td>7.9250</td>\n",
       "      <td>0</td>\n",
       "      <td>0</td>\n",
       "      <td>1</td>\n",
       "      <td>0</td>\n",
       "      <td>0</td>\n",
       "    </tr>\n",
       "  </tbody>\n",
       "</table>\n",
       "</div>"
      ],
      "text/plain": [
       "   Survived  Pclass   Age  SibSp  Parch     Fare  C  Q  S  Sex  Name\n",
       "0         0       3  22.0      1      0   7.2500  0  0  1    1     1\n",
       "1         1       1  38.0      1      0  71.2833  1  0  0    0     0\n",
       "2         1       3  26.0      0      0   7.9250  0  0  1    0     0"
      ]
     },
     "execution_count": 33,
     "metadata": {},
     "output_type": "execute_result"
    }
   ],
   "source": [
    "df.drop(['Cabin','Ticket'], axis = 1, inplace = True)\n",
    "df.head(3)"
   ]
  },
  {
   "cell_type": "code",
   "execution_count": 34,
   "id": "d5e40c74",
   "metadata": {
    "execution": {
     "iopub.execute_input": "2023-03-21T12:32:04.223252Z",
     "iopub.status.busy": "2023-03-21T12:32:04.222816Z",
     "iopub.status.idle": "2023-03-21T12:32:04.265748Z",
     "shell.execute_reply": "2023-03-21T12:32:04.264490Z"
    },
    "papermill": {
     "duration": 0.072148,
     "end_time": "2023-03-21T12:32:04.268704",
     "exception": false,
     "start_time": "2023-03-21T12:32:04.196556",
     "status": "completed"
    },
    "tags": []
   },
   "outputs": [
    {
     "data": {
      "text/html": [
       "<div>\n",
       "<style scoped>\n",
       "    .dataframe tbody tr th:only-of-type {\n",
       "        vertical-align: middle;\n",
       "    }\n",
       "\n",
       "    .dataframe tbody tr th {\n",
       "        vertical-align: top;\n",
       "    }\n",
       "\n",
       "    .dataframe thead th {\n",
       "        text-align: right;\n",
       "    }\n",
       "</style>\n",
       "<table border=\"1\" class=\"dataframe\">\n",
       "  <thead>\n",
       "    <tr style=\"text-align: right;\">\n",
       "      <th></th>\n",
       "      <th>Survived</th>\n",
       "      <th>Pclass</th>\n",
       "      <th>Age</th>\n",
       "      <th>SibSp</th>\n",
       "      <th>Parch</th>\n",
       "      <th>Fare</th>\n",
       "      <th>C</th>\n",
       "      <th>Q</th>\n",
       "      <th>S</th>\n",
       "      <th>Sex</th>\n",
       "      <th>Name</th>\n",
       "    </tr>\n",
       "  </thead>\n",
       "  <tbody>\n",
       "    <tr>\n",
       "      <th>count</th>\n",
       "      <td>891.000000</td>\n",
       "      <td>891.000000</td>\n",
       "      <td>714.000000</td>\n",
       "      <td>891.000000</td>\n",
       "      <td>891.000000</td>\n",
       "      <td>891.000000</td>\n",
       "      <td>891.000000</td>\n",
       "      <td>891.000000</td>\n",
       "      <td>891.000000</td>\n",
       "      <td>891.000000</td>\n",
       "      <td>891.000000</td>\n",
       "    </tr>\n",
       "    <tr>\n",
       "      <th>mean</th>\n",
       "      <td>0.383838</td>\n",
       "      <td>2.308642</td>\n",
       "      <td>29.699118</td>\n",
       "      <td>0.523008</td>\n",
       "      <td>0.381594</td>\n",
       "      <td>32.204208</td>\n",
       "      <td>0.188552</td>\n",
       "      <td>0.086420</td>\n",
       "      <td>0.722783</td>\n",
       "      <td>0.647587</td>\n",
       "      <td>0.589226</td>\n",
       "    </tr>\n",
       "    <tr>\n",
       "      <th>std</th>\n",
       "      <td>0.486592</td>\n",
       "      <td>0.836071</td>\n",
       "      <td>14.526497</td>\n",
       "      <td>1.102743</td>\n",
       "      <td>0.806057</td>\n",
       "      <td>49.693429</td>\n",
       "      <td>0.391372</td>\n",
       "      <td>0.281141</td>\n",
       "      <td>0.447876</td>\n",
       "      <td>0.477990</td>\n",
       "      <td>0.492251</td>\n",
       "    </tr>\n",
       "    <tr>\n",
       "      <th>min</th>\n",
       "      <td>0.000000</td>\n",
       "      <td>1.000000</td>\n",
       "      <td>0.420000</td>\n",
       "      <td>0.000000</td>\n",
       "      <td>0.000000</td>\n",
       "      <td>0.000000</td>\n",
       "      <td>0.000000</td>\n",
       "      <td>0.000000</td>\n",
       "      <td>0.000000</td>\n",
       "      <td>0.000000</td>\n",
       "      <td>0.000000</td>\n",
       "    </tr>\n",
       "    <tr>\n",
       "      <th>25%</th>\n",
       "      <td>0.000000</td>\n",
       "      <td>2.000000</td>\n",
       "      <td>20.125000</td>\n",
       "      <td>0.000000</td>\n",
       "      <td>0.000000</td>\n",
       "      <td>7.910400</td>\n",
       "      <td>0.000000</td>\n",
       "      <td>0.000000</td>\n",
       "      <td>0.000000</td>\n",
       "      <td>0.000000</td>\n",
       "      <td>0.000000</td>\n",
       "    </tr>\n",
       "    <tr>\n",
       "      <th>50%</th>\n",
       "      <td>0.000000</td>\n",
       "      <td>3.000000</td>\n",
       "      <td>28.000000</td>\n",
       "      <td>0.000000</td>\n",
       "      <td>0.000000</td>\n",
       "      <td>14.454200</td>\n",
       "      <td>0.000000</td>\n",
       "      <td>0.000000</td>\n",
       "      <td>1.000000</td>\n",
       "      <td>1.000000</td>\n",
       "      <td>1.000000</td>\n",
       "    </tr>\n",
       "    <tr>\n",
       "      <th>75%</th>\n",
       "      <td>1.000000</td>\n",
       "      <td>3.000000</td>\n",
       "      <td>38.000000</td>\n",
       "      <td>1.000000</td>\n",
       "      <td>0.000000</td>\n",
       "      <td>31.000000</td>\n",
       "      <td>0.000000</td>\n",
       "      <td>0.000000</td>\n",
       "      <td>1.000000</td>\n",
       "      <td>1.000000</td>\n",
       "      <td>1.000000</td>\n",
       "    </tr>\n",
       "    <tr>\n",
       "      <th>max</th>\n",
       "      <td>1.000000</td>\n",
       "      <td>3.000000</td>\n",
       "      <td>80.000000</td>\n",
       "      <td>8.000000</td>\n",
       "      <td>6.000000</td>\n",
       "      <td>512.329200</td>\n",
       "      <td>1.000000</td>\n",
       "      <td>1.000000</td>\n",
       "      <td>1.000000</td>\n",
       "      <td>1.000000</td>\n",
       "      <td>1.000000</td>\n",
       "    </tr>\n",
       "  </tbody>\n",
       "</table>\n",
       "</div>"
      ],
      "text/plain": [
       "         Survived      Pclass         Age       SibSp       Parch        Fare  \\\n",
       "count  891.000000  891.000000  714.000000  891.000000  891.000000  891.000000   \n",
       "mean     0.383838    2.308642   29.699118    0.523008    0.381594   32.204208   \n",
       "std      0.486592    0.836071   14.526497    1.102743    0.806057   49.693429   \n",
       "min      0.000000    1.000000    0.420000    0.000000    0.000000    0.000000   \n",
       "25%      0.000000    2.000000   20.125000    0.000000    0.000000    7.910400   \n",
       "50%      0.000000    3.000000   28.000000    0.000000    0.000000   14.454200   \n",
       "75%      1.000000    3.000000   38.000000    1.000000    0.000000   31.000000   \n",
       "max      1.000000    3.000000   80.000000    8.000000    6.000000  512.329200   \n",
       "\n",
       "                C           Q           S         Sex        Name  \n",
       "count  891.000000  891.000000  891.000000  891.000000  891.000000  \n",
       "mean     0.188552    0.086420    0.722783    0.647587    0.589226  \n",
       "std      0.391372    0.281141    0.447876    0.477990    0.492251  \n",
       "min      0.000000    0.000000    0.000000    0.000000    0.000000  \n",
       "25%      0.000000    0.000000    0.000000    0.000000    0.000000  \n",
       "50%      0.000000    0.000000    1.000000    1.000000    1.000000  \n",
       "75%      0.000000    0.000000    1.000000    1.000000    1.000000  \n",
       "max      1.000000    1.000000    1.000000    1.000000    1.000000  "
      ]
     },
     "execution_count": 34,
     "metadata": {},
     "output_type": "execute_result"
    }
   ],
   "source": [
    "# lets see what we have now:\n",
    "df.describe()"
   ]
  },
  {
   "cell_type": "markdown",
   "id": "9fe0bff5",
   "metadata": {
    "papermill": {
     "duration": 0.024587,
     "end_time": "2023-03-21T12:32:04.318931",
     "exception": false,
     "start_time": "2023-03-21T12:32:04.294344",
     "status": "completed"
    },
    "tags": []
   },
   "source": [
    "The problem resides now is the missing values in age column. We can implement many different imputation techniques like removing the missing columns, filling the missing values with a scalar value or the mean of the column or median of the column, but I will prefer to go the KNNImputer path. \n",
    "KNN Imputer is a technique to find the closest 5 neighbors by other columns and getting the average age of these 5 neighbors. \n",
    "\n",
    "Please remember, we need normalization for the KNN techniques, since they use the distance functions. "
   ]
  },
  {
   "cell_type": "code",
   "execution_count": 35,
   "id": "48eeaeac",
   "metadata": {
    "execution": {
     "iopub.execute_input": "2023-03-21T12:32:04.370247Z",
     "iopub.status.busy": "2023-03-21T12:32:04.369795Z",
     "iopub.status.idle": "2023-03-21T12:32:04.559124Z",
     "shell.execute_reply": "2023-03-21T12:32:04.557705Z"
    },
    "papermill": {
     "duration": 0.218003,
     "end_time": "2023-03-21T12:32:04.561765",
     "exception": false,
     "start_time": "2023-03-21T12:32:04.343762",
     "status": "completed"
    },
    "tags": []
   },
   "outputs": [
    {
     "data": {
      "text/html": [
       "<div>\n",
       "<style scoped>\n",
       "    .dataframe tbody tr th:only-of-type {\n",
       "        vertical-align: middle;\n",
       "    }\n",
       "\n",
       "    .dataframe tbody tr th {\n",
       "        vertical-align: top;\n",
       "    }\n",
       "\n",
       "    .dataframe thead th {\n",
       "        text-align: right;\n",
       "    }\n",
       "</style>\n",
       "<table border=\"1\" class=\"dataframe\">\n",
       "  <thead>\n",
       "    <tr style=\"text-align: right;\">\n",
       "      <th></th>\n",
       "      <th>Survived</th>\n",
       "      <th>Pclass</th>\n",
       "      <th>Age</th>\n",
       "      <th>SibSp</th>\n",
       "      <th>Parch</th>\n",
       "      <th>Fare</th>\n",
       "      <th>C</th>\n",
       "      <th>Q</th>\n",
       "      <th>S</th>\n",
       "      <th>Sex</th>\n",
       "      <th>Name</th>\n",
       "    </tr>\n",
       "  </thead>\n",
       "  <tbody>\n",
       "    <tr>\n",
       "      <th>count</th>\n",
       "      <td>891.000000</td>\n",
       "      <td>891.000000</td>\n",
       "      <td>714.000000</td>\n",
       "      <td>891.000000</td>\n",
       "      <td>891.000000</td>\n",
       "      <td>891.000000</td>\n",
       "      <td>891.000000</td>\n",
       "      <td>891.000000</td>\n",
       "      <td>891.000000</td>\n",
       "      <td>891.000000</td>\n",
       "      <td>891.000000</td>\n",
       "    </tr>\n",
       "    <tr>\n",
       "      <th>mean</th>\n",
       "      <td>0.383838</td>\n",
       "      <td>0.654321</td>\n",
       "      <td>0.367921</td>\n",
       "      <td>0.065376</td>\n",
       "      <td>0.063599</td>\n",
       "      <td>0.062858</td>\n",
       "      <td>0.188552</td>\n",
       "      <td>0.086420</td>\n",
       "      <td>0.722783</td>\n",
       "      <td>0.647587</td>\n",
       "      <td>0.589226</td>\n",
       "    </tr>\n",
       "    <tr>\n",
       "      <th>std</th>\n",
       "      <td>0.486592</td>\n",
       "      <td>0.418036</td>\n",
       "      <td>0.182540</td>\n",
       "      <td>0.137843</td>\n",
       "      <td>0.134343</td>\n",
       "      <td>0.096995</td>\n",
       "      <td>0.391372</td>\n",
       "      <td>0.281141</td>\n",
       "      <td>0.447876</td>\n",
       "      <td>0.477990</td>\n",
       "      <td>0.492251</td>\n",
       "    </tr>\n",
       "    <tr>\n",
       "      <th>min</th>\n",
       "      <td>0.000000</td>\n",
       "      <td>0.000000</td>\n",
       "      <td>0.000000</td>\n",
       "      <td>0.000000</td>\n",
       "      <td>0.000000</td>\n",
       "      <td>0.000000</td>\n",
       "      <td>0.000000</td>\n",
       "      <td>0.000000</td>\n",
       "      <td>0.000000</td>\n",
       "      <td>0.000000</td>\n",
       "      <td>0.000000</td>\n",
       "    </tr>\n",
       "    <tr>\n",
       "      <th>25%</th>\n",
       "      <td>0.000000</td>\n",
       "      <td>0.500000</td>\n",
       "      <td>0.247612</td>\n",
       "      <td>0.000000</td>\n",
       "      <td>0.000000</td>\n",
       "      <td>0.015440</td>\n",
       "      <td>0.000000</td>\n",
       "      <td>0.000000</td>\n",
       "      <td>0.000000</td>\n",
       "      <td>0.000000</td>\n",
       "      <td>0.000000</td>\n",
       "    </tr>\n",
       "    <tr>\n",
       "      <th>50%</th>\n",
       "      <td>0.000000</td>\n",
       "      <td>1.000000</td>\n",
       "      <td>0.346569</td>\n",
       "      <td>0.000000</td>\n",
       "      <td>0.000000</td>\n",
       "      <td>0.028213</td>\n",
       "      <td>0.000000</td>\n",
       "      <td>0.000000</td>\n",
       "      <td>1.000000</td>\n",
       "      <td>1.000000</td>\n",
       "      <td>1.000000</td>\n",
       "    </tr>\n",
       "    <tr>\n",
       "      <th>75%</th>\n",
       "      <td>1.000000</td>\n",
       "      <td>1.000000</td>\n",
       "      <td>0.472229</td>\n",
       "      <td>0.125000</td>\n",
       "      <td>0.000000</td>\n",
       "      <td>0.060508</td>\n",
       "      <td>0.000000</td>\n",
       "      <td>0.000000</td>\n",
       "      <td>1.000000</td>\n",
       "      <td>1.000000</td>\n",
       "      <td>1.000000</td>\n",
       "    </tr>\n",
       "    <tr>\n",
       "      <th>max</th>\n",
       "      <td>1.000000</td>\n",
       "      <td>1.000000</td>\n",
       "      <td>1.000000</td>\n",
       "      <td>1.000000</td>\n",
       "      <td>1.000000</td>\n",
       "      <td>1.000000</td>\n",
       "      <td>1.000000</td>\n",
       "      <td>1.000000</td>\n",
       "      <td>1.000000</td>\n",
       "      <td>1.000000</td>\n",
       "      <td>1.000000</td>\n",
       "    </tr>\n",
       "  </tbody>\n",
       "</table>\n",
       "</div>"
      ],
      "text/plain": [
       "         Survived      Pclass         Age       SibSp       Parch        Fare  \\\n",
       "count  891.000000  891.000000  714.000000  891.000000  891.000000  891.000000   \n",
       "mean     0.383838    0.654321    0.367921    0.065376    0.063599    0.062858   \n",
       "std      0.486592    0.418036    0.182540    0.137843    0.134343    0.096995   \n",
       "min      0.000000    0.000000    0.000000    0.000000    0.000000    0.000000   \n",
       "25%      0.000000    0.500000    0.247612    0.000000    0.000000    0.015440   \n",
       "50%      0.000000    1.000000    0.346569    0.000000    0.000000    0.028213   \n",
       "75%      1.000000    1.000000    0.472229    0.125000    0.000000    0.060508   \n",
       "max      1.000000    1.000000    1.000000    1.000000    1.000000    1.000000   \n",
       "\n",
       "                C           Q           S         Sex        Name  \n",
       "count  891.000000  891.000000  891.000000  891.000000  891.000000  \n",
       "mean     0.188552    0.086420    0.722783    0.647587    0.589226  \n",
       "std      0.391372    0.281141    0.447876    0.477990    0.492251  \n",
       "min      0.000000    0.000000    0.000000    0.000000    0.000000  \n",
       "25%      0.000000    0.000000    0.000000    0.000000    0.000000  \n",
       "50%      0.000000    0.000000    1.000000    1.000000    1.000000  \n",
       "75%      0.000000    0.000000    1.000000    1.000000    1.000000  \n",
       "max      1.000000    1.000000    1.000000    1.000000    1.000000  "
      ]
     },
     "execution_count": 35,
     "metadata": {},
     "output_type": "execute_result"
    }
   ],
   "source": [
    "#lets implement the min-max scaler and set min = 0 and max = 1\n",
    "from sklearn.preprocessing import MinMaxScaler\n",
    "mms = MinMaxScaler()\n",
    "df = pd.DataFrame( mms.fit_transform(df), columns = df.columns)\n",
    "#lets check the maximum, avarega values \n",
    "df.describe()\n"
   ]
  },
  {
   "cell_type": "code",
   "execution_count": 36,
   "id": "f0f59a6c",
   "metadata": {
    "execution": {
     "iopub.execute_input": "2023-03-21T12:32:04.614558Z",
     "iopub.status.busy": "2023-03-21T12:32:04.613475Z",
     "iopub.status.idle": "2023-03-21T12:32:04.904953Z",
     "shell.execute_reply": "2023-03-21T12:32:04.903393Z"
    },
    "papermill": {
     "duration": 0.322107,
     "end_time": "2023-03-21T12:32:04.908929",
     "exception": false,
     "start_time": "2023-03-21T12:32:04.586822",
     "status": "completed"
    },
    "tags": []
   },
   "outputs": [
    {
     "data": {
      "text/html": [
       "<div>\n",
       "<style scoped>\n",
       "    .dataframe tbody tr th:only-of-type {\n",
       "        vertical-align: middle;\n",
       "    }\n",
       "\n",
       "    .dataframe tbody tr th {\n",
       "        vertical-align: top;\n",
       "    }\n",
       "\n",
       "    .dataframe thead th {\n",
       "        text-align: right;\n",
       "    }\n",
       "</style>\n",
       "<table border=\"1\" class=\"dataframe\">\n",
       "  <thead>\n",
       "    <tr style=\"text-align: right;\">\n",
       "      <th></th>\n",
       "      <th>Survived</th>\n",
       "      <th>Pclass</th>\n",
       "      <th>Age</th>\n",
       "      <th>SibSp</th>\n",
       "      <th>Parch</th>\n",
       "      <th>Fare</th>\n",
       "      <th>C</th>\n",
       "      <th>Q</th>\n",
       "      <th>S</th>\n",
       "      <th>Sex</th>\n",
       "      <th>Name</th>\n",
       "    </tr>\n",
       "  </thead>\n",
       "  <tbody>\n",
       "    <tr>\n",
       "      <th>0</th>\n",
       "      <td>0.0</td>\n",
       "      <td>1.0</td>\n",
       "      <td>0.271174</td>\n",
       "      <td>0.125</td>\n",
       "      <td>0.0</td>\n",
       "      <td>0.014151</td>\n",
       "      <td>0.0</td>\n",
       "      <td>0.0</td>\n",
       "      <td>1.0</td>\n",
       "      <td>1.0</td>\n",
       "      <td>1.0</td>\n",
       "    </tr>\n",
       "    <tr>\n",
       "      <th>1</th>\n",
       "      <td>1.0</td>\n",
       "      <td>0.0</td>\n",
       "      <td>0.472229</td>\n",
       "      <td>0.125</td>\n",
       "      <td>0.0</td>\n",
       "      <td>0.139136</td>\n",
       "      <td>1.0</td>\n",
       "      <td>0.0</td>\n",
       "      <td>0.0</td>\n",
       "      <td>0.0</td>\n",
       "      <td>0.0</td>\n",
       "    </tr>\n",
       "    <tr>\n",
       "      <th>2</th>\n",
       "      <td>1.0</td>\n",
       "      <td>1.0</td>\n",
       "      <td>0.321438</td>\n",
       "      <td>0.000</td>\n",
       "      <td>0.0</td>\n",
       "      <td>0.015469</td>\n",
       "      <td>0.0</td>\n",
       "      <td>0.0</td>\n",
       "      <td>1.0</td>\n",
       "      <td>0.0</td>\n",
       "      <td>0.0</td>\n",
       "    </tr>\n",
       "  </tbody>\n",
       "</table>\n",
       "</div>"
      ],
      "text/plain": [
       "   Survived  Pclass       Age  SibSp  Parch      Fare    C    Q    S  Sex  \\\n",
       "0       0.0     1.0  0.271174  0.125    0.0  0.014151  0.0  0.0  1.0  1.0   \n",
       "1       1.0     0.0  0.472229  0.125    0.0  0.139136  1.0  0.0  0.0  0.0   \n",
       "2       1.0     1.0  0.321438  0.000    0.0  0.015469  0.0  0.0  1.0  0.0   \n",
       "\n",
       "   Name  \n",
       "0   1.0  \n",
       "1   0.0  \n",
       "2   0.0  "
      ]
     },
     "execution_count": 36,
     "metadata": {},
     "output_type": "execute_result"
    }
   ],
   "source": [
    "#now we can implement the knn imputer and fill the blanks with the average of 5 nearest neighbors\n",
    "from sklearn.impute import KNNImputer\n",
    "knni = KNNImputer()\n",
    "df = pd.DataFrame( knni.fit_transform(df), columns = df.columns)\n",
    "df.head(3)"
   ]
  },
  {
   "cell_type": "markdown",
   "id": "9373ccb6",
   "metadata": {
    "papermill": {
     "duration": 0.040956,
     "end_time": "2023-03-21T12:32:04.991751",
     "exception": false,
     "start_time": "2023-03-21T12:32:04.950795",
     "status": "completed"
    },
    "tags": []
   },
   "source": [
    "## Feature importance / Elimination"
   ]
  },
  {
   "cell_type": "markdown",
   "id": "67d2a1b9",
   "metadata": {
    "papermill": {
     "duration": 0.024965,
     "end_time": "2023-03-21T12:32:05.042041",
     "exception": false,
     "start_time": "2023-03-21T12:32:05.017076",
     "status": "completed"
    },
    "tags": []
   },
   "source": [
    "As a sub phase of feature engineering we also need to check the importance of the features. Although we have already checked the correlation matrix, we can also use regression or decision trees for the feature importances. "
   ]
  },
  {
   "cell_type": "code",
   "execution_count": 37,
   "id": "ad6b77da",
   "metadata": {
    "execution": {
     "iopub.execute_input": "2023-03-21T12:32:05.094541Z",
     "iopub.status.busy": "2023-03-21T12:32:05.094084Z",
     "iopub.status.idle": "2023-03-21T12:32:05.120218Z",
     "shell.execute_reply": "2023-03-21T12:32:05.118851Z"
    },
    "papermill": {
     "duration": 0.055667,
     "end_time": "2023-03-21T12:32:05.122983",
     "exception": false,
     "start_time": "2023-03-21T12:32:05.067316",
     "status": "completed"
    },
    "tags": []
   },
   "outputs": [
    {
     "data": {
      "text/plain": [
       "array([[-0.29910312]])"
      ]
     },
     "execution_count": 37,
     "metadata": {},
     "output_type": "execute_result"
    }
   ],
   "source": [
    "# lets try to build a linear regression between age and survived columns\n",
    "from sklearn.linear_model import LinearRegression\n",
    "lr = LinearRegression()\n",
    "lr.fit(df[['Age']],df[['Survived']])\n",
    "lr.coef_"
   ]
  },
  {
   "cell_type": "markdown",
   "id": "28db1518",
   "metadata": {
    "papermill": {
     "duration": 0.02512,
     "end_time": "2023-03-21T12:32:05.173478",
     "exception": false,
     "start_time": "2023-03-21T12:32:05.148358",
     "status": "completed"
    },
    "tags": []
   },
   "source": [
    "The linear regression tries to build a line between age and survived axises. the formula of linear regression is y = ax+b and in this case a, which is the slope between x and y, is -0.29. From this coefficient we can conclude there is a weak relation between survived and age columns. "
   ]
  },
  {
   "cell_type": "code",
   "execution_count": 38,
   "id": "7aa09e5a",
   "metadata": {
    "execution": {
     "iopub.execute_input": "2023-03-21T12:32:05.226535Z",
     "iopub.status.busy": "2023-03-21T12:32:05.225609Z",
     "iopub.status.idle": "2023-03-21T12:32:05.500771Z",
     "shell.execute_reply": "2023-03-21T12:32:05.499548Z"
    },
    "papermill": {
     "duration": 0.304816,
     "end_time": "2023-03-21T12:32:05.503653",
     "exception": false,
     "start_time": "2023-03-21T12:32:05.198837",
     "status": "completed"
    },
    "tags": []
   },
   "outputs": [
    {
     "data": {
      "text/html": [
       "<div>\n",
       "<style scoped>\n",
       "    .dataframe tbody tr th:only-of-type {\n",
       "        vertical-align: middle;\n",
       "    }\n",
       "\n",
       "    .dataframe tbody tr th {\n",
       "        vertical-align: top;\n",
       "    }\n",
       "\n",
       "    .dataframe thead th {\n",
       "        text-align: right;\n",
       "    }\n",
       "</style>\n",
       "<table border=\"1\" class=\"dataframe\">\n",
       "  <thead>\n",
       "    <tr style=\"text-align: right;\">\n",
       "      <th></th>\n",
       "      <th>Survived</th>\n",
       "      <th>Pclass</th>\n",
       "      <th>Age</th>\n",
       "      <th>SibSp</th>\n",
       "      <th>Parch</th>\n",
       "      <th>Fare</th>\n",
       "      <th>C</th>\n",
       "      <th>Q</th>\n",
       "      <th>S</th>\n",
       "      <th>Sex</th>\n",
       "      <th>Name</th>\n",
       "    </tr>\n",
       "  </thead>\n",
       "  <tbody>\n",
       "    <tr>\n",
       "      <th>Survived</th>\n",
       "      <td>1.00</td>\n",
       "      <td>-0.39</td>\n",
       "      <td>-0.30</td>\n",
       "      <td>-0.12</td>\n",
       "      <td>0.30</td>\n",
       "      <td>1.29</td>\n",
       "      <td>0.21</td>\n",
       "      <td>0.01</td>\n",
       "      <td>-0.17</td>\n",
       "      <td>-0.55</td>\n",
       "      <td>-0.54</td>\n",
       "    </tr>\n",
       "    <tr>\n",
       "      <th>Pclass</th>\n",
       "      <td>-0.29</td>\n",
       "      <td>1.00</td>\n",
       "      <td>-0.89</td>\n",
       "      <td>0.25</td>\n",
       "      <td>0.06</td>\n",
       "      <td>-2.37</td>\n",
       "      <td>-0.26</td>\n",
       "      <td>0.33</td>\n",
       "      <td>0.08</td>\n",
       "      <td>0.12</td>\n",
       "      <td>0.10</td>\n",
       "    </tr>\n",
       "    <tr>\n",
       "      <th>Age</th>\n",
       "      <td>-0.04</td>\n",
       "      <td>-0.16</td>\n",
       "      <td>1.00</td>\n",
       "      <td>-0.41</td>\n",
       "      <td>-0.29</td>\n",
       "      <td>0.16</td>\n",
       "      <td>0.01</td>\n",
       "      <td>0.01</td>\n",
       "      <td>-0.01</td>\n",
       "      <td>0.06</td>\n",
       "      <td>0.10</td>\n",
       "    </tr>\n",
       "    <tr>\n",
       "      <th>SibSp</th>\n",
       "      <td>-0.01</td>\n",
       "      <td>0.03</td>\n",
       "      <td>-0.25</td>\n",
       "      <td>1.00</td>\n",
       "      <td>0.43</td>\n",
       "      <td>0.23</td>\n",
       "      <td>-0.02</td>\n",
       "      <td>-0.01</td>\n",
       "      <td>0.02</td>\n",
       "      <td>-0.03</td>\n",
       "      <td>-0.07</td>\n",
       "    </tr>\n",
       "    <tr>\n",
       "      <th>Parch</th>\n",
       "      <td>0.02</td>\n",
       "      <td>0.01</td>\n",
       "      <td>-0.16</td>\n",
       "      <td>0.40</td>\n",
       "      <td>1.00</td>\n",
       "      <td>0.30</td>\n",
       "      <td>-0.00</td>\n",
       "      <td>-0.04</td>\n",
       "      <td>0.02</td>\n",
       "      <td>-0.07</td>\n",
       "      <td>-0.09</td>\n",
       "    </tr>\n",
       "    <tr>\n",
       "      <th>Fare</th>\n",
       "      <td>0.05</td>\n",
       "      <td>-0.13</td>\n",
       "      <td>0.05</td>\n",
       "      <td>0.11</td>\n",
       "      <td>0.16</td>\n",
       "      <td>1.00</td>\n",
       "      <td>0.07</td>\n",
       "      <td>-0.04</td>\n",
       "      <td>-0.04</td>\n",
       "      <td>-0.04</td>\n",
       "      <td>-0.04</td>\n",
       "    </tr>\n",
       "    <tr>\n",
       "      <th>C</th>\n",
       "      <td>0.14</td>\n",
       "      <td>-0.23</td>\n",
       "      <td>0.03</td>\n",
       "      <td>-0.17</td>\n",
       "      <td>-0.03</td>\n",
       "      <td>1.09</td>\n",
       "      <td>1.00</td>\n",
       "      <td>-0.21</td>\n",
       "      <td>-0.68</td>\n",
       "      <td>-0.07</td>\n",
       "      <td>-0.05</td>\n",
       "    </tr>\n",
       "    <tr>\n",
       "      <th>Q</th>\n",
       "      <td>0.00</td>\n",
       "      <td>0.15</td>\n",
       "      <td>0.03</td>\n",
       "      <td>-0.05</td>\n",
       "      <td>-0.17</td>\n",
       "      <td>-0.34</td>\n",
       "      <td>-0.11</td>\n",
       "      <td>1.00</td>\n",
       "      <td>-0.31</td>\n",
       "      <td>-0.04</td>\n",
       "      <td>-0.04</td>\n",
       "    </tr>\n",
       "    <tr>\n",
       "      <th>S</th>\n",
       "      <td>-0.14</td>\n",
       "      <td>0.09</td>\n",
       "      <td>-0.08</td>\n",
       "      <td>0.23</td>\n",
       "      <td>0.21</td>\n",
       "      <td>-0.77</td>\n",
       "      <td>-0.89</td>\n",
       "      <td>-0.79</td>\n",
       "      <td>1.00</td>\n",
       "      <td>0.12</td>\n",
       "      <td>0.10</td>\n",
       "    </tr>\n",
       "    <tr>\n",
       "      <th>Sex</th>\n",
       "      <td>-0.53</td>\n",
       "      <td>0.15</td>\n",
       "      <td>0.44</td>\n",
       "      <td>-0.40</td>\n",
       "      <td>-0.87</td>\n",
       "      <td>-0.90</td>\n",
       "      <td>-0.10</td>\n",
       "      <td>-0.13</td>\n",
       "      <td>0.13</td>\n",
       "      <td>1.00</td>\n",
       "      <td>0.85</td>\n",
       "    </tr>\n",
       "    <tr>\n",
       "      <th>Name</th>\n",
       "      <td>-0.55</td>\n",
       "      <td>0.14</td>\n",
       "      <td>0.79</td>\n",
       "      <td>-0.89</td>\n",
       "      <td>-1.26</td>\n",
       "      <td>-0.90</td>\n",
       "      <td>-0.08</td>\n",
       "      <td>-0.13</td>\n",
       "      <td>0.12</td>\n",
       "      <td>0.90</td>\n",
       "      <td>1.00</td>\n",
       "    </tr>\n",
       "  </tbody>\n",
       "</table>\n",
       "</div>"
      ],
      "text/plain": [
       "          Survived  Pclass   Age  SibSp  Parch  Fare     C     Q     S   Sex  \\\n",
       "Survived      1.00   -0.39 -0.30  -0.12   0.30  1.29  0.21  0.01 -0.17 -0.55   \n",
       "Pclass       -0.29    1.00 -0.89   0.25   0.06 -2.37 -0.26  0.33  0.08  0.12   \n",
       "Age          -0.04   -0.16  1.00  -0.41  -0.29  0.16  0.01  0.01 -0.01  0.06   \n",
       "SibSp        -0.01    0.03 -0.25   1.00   0.43  0.23 -0.02 -0.01  0.02 -0.03   \n",
       "Parch         0.02    0.01 -0.16   0.40   1.00  0.30 -0.00 -0.04  0.02 -0.07   \n",
       "Fare          0.05   -0.13  0.05   0.11   0.16  1.00  0.07 -0.04 -0.04 -0.04   \n",
       "C             0.14   -0.23  0.03  -0.17  -0.03  1.09  1.00 -0.21 -0.68 -0.07   \n",
       "Q             0.00    0.15  0.03  -0.05  -0.17 -0.34 -0.11  1.00 -0.31 -0.04   \n",
       "S            -0.14    0.09 -0.08   0.23   0.21 -0.77 -0.89 -0.79  1.00  0.12   \n",
       "Sex          -0.53    0.15  0.44  -0.40  -0.87 -0.90 -0.10 -0.13  0.13  1.00   \n",
       "Name         -0.55    0.14  0.79  -0.89  -1.26 -0.90 -0.08 -0.13  0.12  0.90   \n",
       "\n",
       "          Name  \n",
       "Survived -0.54  \n",
       "Pclass    0.10  \n",
       "Age       0.10  \n",
       "SibSp    -0.07  \n",
       "Parch    -0.09  \n",
       "Fare     -0.04  \n",
       "C        -0.05  \n",
       "Q        -0.04  \n",
       "S         0.10  \n",
       "Sex       0.85  \n",
       "Name      1.00  "
      ]
     },
     "execution_count": 38,
     "metadata": {},
     "output_type": "execute_result"
    }
   ],
   "source": [
    "#we can also see the slope between all columns to all columns in a matrix\n",
    "regmat = []\n",
    "for col in df.columns:\n",
    "    satirlar = []\n",
    "    for row in df.columns:\n",
    "        lr.fit(df[[row]],df[col])\n",
    "        x = lr.coef_[0]\n",
    "        satirlar += [ round(x, 2) ]\n",
    "    regmat += [satirlar]\n",
    "\n",
    "sonuc = pd.DataFrame(regmat, columns = df.columns, index = df.columns)\n",
    "sonuc"
   ]
  },
  {
   "cell_type": "code",
   "execution_count": 39,
   "id": "6eea0b43",
   "metadata": {
    "execution": {
     "iopub.execute_input": "2023-03-21T12:32:05.557846Z",
     "iopub.status.busy": "2023-03-21T12:32:05.557380Z",
     "iopub.status.idle": "2023-03-21T12:32:05.830110Z",
     "shell.execute_reply": "2023-03-21T12:32:05.828857Z"
    },
    "papermill": {
     "duration": 0.30258,
     "end_time": "2023-03-21T12:32:05.832671",
     "exception": false,
     "start_time": "2023-03-21T12:32:05.530091",
     "status": "completed"
    },
    "tags": []
   },
   "outputs": [
    {
     "data": {
      "text/html": [
       "<div>\n",
       "<style scoped>\n",
       "    .dataframe tbody tr th:only-of-type {\n",
       "        vertical-align: middle;\n",
       "    }\n",
       "\n",
       "    .dataframe tbody tr th {\n",
       "        vertical-align: top;\n",
       "    }\n",
       "\n",
       "    .dataframe thead th {\n",
       "        text-align: right;\n",
       "    }\n",
       "</style>\n",
       "<table border=\"1\" class=\"dataframe\">\n",
       "  <thead>\n",
       "    <tr style=\"text-align: right;\">\n",
       "      <th></th>\n",
       "      <th>Survived</th>\n",
       "      <th>Pclass</th>\n",
       "      <th>Age</th>\n",
       "      <th>SibSp</th>\n",
       "      <th>Parch</th>\n",
       "      <th>Fare</th>\n",
       "      <th>C</th>\n",
       "      <th>Q</th>\n",
       "      <th>S</th>\n",
       "      <th>Sex</th>\n",
       "      <th>Name</th>\n",
       "    </tr>\n",
       "  </thead>\n",
       "  <tbody>\n",
       "    <tr>\n",
       "      <th>Survived</th>\n",
       "      <td>-0.00</td>\n",
       "      <td>0.64</td>\n",
       "      <td>0.49</td>\n",
       "      <td>0.39</td>\n",
       "      <td>0.37</td>\n",
       "      <td>0.30</td>\n",
       "      <td>0.34</td>\n",
       "      <td>0.38</td>\n",
       "      <td>0.51</td>\n",
       "      <td>0.74</td>\n",
       "      <td>0.70</td>\n",
       "    </tr>\n",
       "    <tr>\n",
       "      <th>Pclass</th>\n",
       "      <td>0.77</td>\n",
       "      <td>0.00</td>\n",
       "      <td>0.99</td>\n",
       "      <td>0.64</td>\n",
       "      <td>0.65</td>\n",
       "      <td>0.80</td>\n",
       "      <td>0.70</td>\n",
       "      <td>0.63</td>\n",
       "      <td>0.60</td>\n",
       "      <td>0.58</td>\n",
       "      <td>0.59</td>\n",
       "    </tr>\n",
       "    <tr>\n",
       "      <th>Age</th>\n",
       "      <td>0.39</td>\n",
       "      <td>0.48</td>\n",
       "      <td>0.00</td>\n",
       "      <td>0.40</td>\n",
       "      <td>0.39</td>\n",
       "      <td>0.36</td>\n",
       "      <td>0.37</td>\n",
       "      <td>0.37</td>\n",
       "      <td>0.38</td>\n",
       "      <td>0.33</td>\n",
       "      <td>0.31</td>\n",
       "    </tr>\n",
       "    <tr>\n",
       "      <th>SibSp</th>\n",
       "      <td>0.07</td>\n",
       "      <td>0.05</td>\n",
       "      <td>0.16</td>\n",
       "      <td>-0.00</td>\n",
       "      <td>0.04</td>\n",
       "      <td>0.05</td>\n",
       "      <td>0.07</td>\n",
       "      <td>0.07</td>\n",
       "      <td>0.05</td>\n",
       "      <td>0.09</td>\n",
       "      <td>0.11</td>\n",
       "    </tr>\n",
       "    <tr>\n",
       "      <th>Parch</th>\n",
       "      <td>0.05</td>\n",
       "      <td>0.06</td>\n",
       "      <td>0.12</td>\n",
       "      <td>0.04</td>\n",
       "      <td>-0.00</td>\n",
       "      <td>0.04</td>\n",
       "      <td>0.06</td>\n",
       "      <td>0.07</td>\n",
       "      <td>0.05</td>\n",
       "      <td>0.11</td>\n",
       "      <td>0.12</td>\n",
       "    </tr>\n",
       "    <tr>\n",
       "      <th>Fare</th>\n",
       "      <td>0.04</td>\n",
       "      <td>0.15</td>\n",
       "      <td>0.05</td>\n",
       "      <td>0.06</td>\n",
       "      <td>0.05</td>\n",
       "      <td>-0.00</td>\n",
       "      <td>0.05</td>\n",
       "      <td>0.07</td>\n",
       "      <td>0.09</td>\n",
       "      <td>0.09</td>\n",
       "      <td>0.08</td>\n",
       "    </tr>\n",
       "    <tr>\n",
       "      <th>C</th>\n",
       "      <td>0.14</td>\n",
       "      <td>0.34</td>\n",
       "      <td>0.18</td>\n",
       "      <td>0.20</td>\n",
       "      <td>0.19</td>\n",
       "      <td>0.12</td>\n",
       "      <td>-0.00</td>\n",
       "      <td>0.21</td>\n",
       "      <td>0.68</td>\n",
       "      <td>0.23</td>\n",
       "      <td>0.22</td>\n",
       "    </tr>\n",
       "    <tr>\n",
       "      <th>Q</th>\n",
       "      <td>0.09</td>\n",
       "      <td>-0.01</td>\n",
       "      <td>0.08</td>\n",
       "      <td>0.09</td>\n",
       "      <td>0.10</td>\n",
       "      <td>0.11</td>\n",
       "      <td>0.11</td>\n",
       "      <td>-0.00</td>\n",
       "      <td>0.31</td>\n",
       "      <td>0.11</td>\n",
       "      <td>0.11</td>\n",
       "    </tr>\n",
       "    <tr>\n",
       "      <th>S</th>\n",
       "      <td>0.78</td>\n",
       "      <td>0.67</td>\n",
       "      <td>0.75</td>\n",
       "      <td>0.71</td>\n",
       "      <td>0.71</td>\n",
       "      <td>0.77</td>\n",
       "      <td>0.89</td>\n",
       "      <td>0.79</td>\n",
       "      <td>-0.00</td>\n",
       "      <td>0.65</td>\n",
       "      <td>0.66</td>\n",
       "    </tr>\n",
       "    <tr>\n",
       "      <th>Sex</th>\n",
       "      <td>0.85</td>\n",
       "      <td>0.55</td>\n",
       "      <td>0.49</td>\n",
       "      <td>0.67</td>\n",
       "      <td>0.70</td>\n",
       "      <td>0.70</td>\n",
       "      <td>0.67</td>\n",
       "      <td>0.66</td>\n",
       "      <td>0.55</td>\n",
       "      <td>0.00</td>\n",
       "      <td>0.14</td>\n",
       "    </tr>\n",
       "    <tr>\n",
       "      <th>Name</th>\n",
       "      <td>0.80</td>\n",
       "      <td>0.50</td>\n",
       "      <td>0.30</td>\n",
       "      <td>0.65</td>\n",
       "      <td>0.67</td>\n",
       "      <td>0.65</td>\n",
       "      <td>0.60</td>\n",
       "      <td>0.60</td>\n",
       "      <td>0.50</td>\n",
       "      <td>0.00</td>\n",
       "      <td>-0.00</td>\n",
       "    </tr>\n",
       "  </tbody>\n",
       "</table>\n",
       "</div>"
      ],
      "text/plain": [
       "          Survived  Pclass   Age  SibSp  Parch  Fare     C     Q     S   Sex  \\\n",
       "Survived     -0.00    0.64  0.49   0.39   0.37  0.30  0.34  0.38  0.51  0.74   \n",
       "Pclass        0.77    0.00  0.99   0.64   0.65  0.80  0.70  0.63  0.60  0.58   \n",
       "Age           0.39    0.48  0.00   0.40   0.39  0.36  0.37  0.37  0.38  0.33   \n",
       "SibSp         0.07    0.05  0.16  -0.00   0.04  0.05  0.07  0.07  0.05  0.09   \n",
       "Parch         0.05    0.06  0.12   0.04  -0.00  0.04  0.06  0.07  0.05  0.11   \n",
       "Fare          0.04    0.15  0.05   0.06   0.05 -0.00  0.05  0.07  0.09  0.09   \n",
       "C             0.14    0.34  0.18   0.20   0.19  0.12 -0.00  0.21  0.68  0.23   \n",
       "Q             0.09   -0.01  0.08   0.09   0.10  0.11  0.11 -0.00  0.31  0.11   \n",
       "S             0.78    0.67  0.75   0.71   0.71  0.77  0.89  0.79 -0.00  0.65   \n",
       "Sex           0.85    0.55  0.49   0.67   0.70  0.70  0.67  0.66  0.55  0.00   \n",
       "Name          0.80    0.50  0.30   0.65   0.67  0.65  0.60  0.60  0.50  0.00   \n",
       "\n",
       "          Name  \n",
       "Survived  0.70  \n",
       "Pclass    0.59  \n",
       "Age       0.31  \n",
       "SibSp     0.11  \n",
       "Parch     0.12  \n",
       "Fare      0.08  \n",
       "C         0.22  \n",
       "Q         0.11  \n",
       "S         0.66  \n",
       "Sex       0.14  \n",
       "Name     -0.00  "
      ]
     },
     "execution_count": 39,
     "metadata": {},
     "output_type": "execute_result"
    }
   ],
   "source": [
    "# or we can create another matrix from the intercept values (which is the b value in y = ax+b formula)\n",
    "regmat = []\n",
    "for col in df.columns:\n",
    "    satirlar = []\n",
    "    for row in df.columns:\n",
    "        lr.fit(df[[row]],df[col])\n",
    "        x = lr.intercept_\n",
    "        satirlar += [ round(x, 2) ]\n",
    "    regmat += [satirlar]\n",
    "\n",
    "sonuc = pd.DataFrame(regmat, columns = df.columns, index = df.columns)\n",
    "sonuc"
   ]
  },
  {
   "cell_type": "code",
   "execution_count": 40,
   "id": "5350803a",
   "metadata": {
    "execution": {
     "iopub.execute_input": "2023-03-21T12:32:05.887943Z",
     "iopub.status.busy": "2023-03-21T12:32:05.886876Z",
     "iopub.status.idle": "2023-03-21T12:32:06.269509Z",
     "shell.execute_reply": "2023-03-21T12:32:06.268182Z"
    },
    "papermill": {
     "duration": 0.413729,
     "end_time": "2023-03-21T12:32:06.272600",
     "exception": false,
     "start_time": "2023-03-21T12:32:05.858871",
     "status": "completed"
    },
    "tags": []
   },
   "outputs": [],
   "source": [
    "# another technique for the feature importance is using a machine learning and getting the\n",
    "# feature importances. \n",
    "from sklearn.ensemble import RandomForestClassifier\n",
    "rfc = RandomForestClassifier()\n",
    "X = df.drop('Survived', axis = 1)\n",
    "y = df['Survived']\n",
    "rfc.fit(X,y)\n",
    "pred = rfc.predict(X)"
   ]
  },
  {
   "cell_type": "code",
   "execution_count": 41,
   "id": "211919d4",
   "metadata": {
    "execution": {
     "iopub.execute_input": "2023-03-21T12:32:06.326380Z",
     "iopub.status.busy": "2023-03-21T12:32:06.325936Z",
     "iopub.status.idle": "2023-03-21T12:32:06.335801Z",
     "shell.execute_reply": "2023-03-21T12:32:06.334490Z"
    },
    "papermill": {
     "duration": 0.040065,
     "end_time": "2023-03-21T12:32:06.338468",
     "exception": false,
     "start_time": "2023-03-21T12:32:06.298403",
     "status": "completed"
    },
    "tags": []
   },
   "outputs": [
    {
     "data": {
      "text/plain": [
       "0.9910213243546577"
      ]
     },
     "execution_count": 41,
     "metadata": {},
     "output_type": "execute_result"
    }
   ],
   "source": [
    "from sklearn.metrics import accuracy_score\n",
    "acc = accuracy_score(y,pred)\n",
    "acc"
   ]
  },
  {
   "cell_type": "markdown",
   "id": "b31ae1aa",
   "metadata": {
    "papermill": {
     "duration": 0.025938,
     "end_time": "2023-03-21T12:32:06.390747",
     "exception": false,
     "start_time": "2023-03-21T12:32:06.364809",
     "status": "completed"
    },
    "tags": []
   },
   "source": [
    "Please note that 99% accuracy is not a good sign. Most probably an over fitting sign. So, lets divide our data set into train and test parts by using the train/test split."
   ]
  },
  {
   "cell_type": "code",
   "execution_count": 42,
   "id": "7a5ff550",
   "metadata": {
    "execution": {
     "iopub.execute_input": "2023-03-21T12:32:06.445239Z",
     "iopub.status.busy": "2023-03-21T12:32:06.444747Z",
     "iopub.status.idle": "2023-03-21T12:32:06.453366Z",
     "shell.execute_reply": "2023-03-21T12:32:06.452376Z"
    },
    "papermill": {
     "duration": 0.038753,
     "end_time": "2023-03-21T12:32:06.455717",
     "exception": false,
     "start_time": "2023-03-21T12:32:06.416964",
     "status": "completed"
    },
    "tags": []
   },
   "outputs": [],
   "source": [
    "from sklearn.model_selection import train_test_split\n",
    "X_train, X_test, y_train, y_test = train_test_split(\n",
    "    X, y, test_size=0.33, random_state=42)"
   ]
  },
  {
   "cell_type": "code",
   "execution_count": 43,
   "id": "b7381643",
   "metadata": {
    "execution": {
     "iopub.execute_input": "2023-03-21T12:32:06.510688Z",
     "iopub.status.busy": "2023-03-21T12:32:06.509863Z",
     "iopub.status.idle": "2023-03-21T12:32:06.712113Z",
     "shell.execute_reply": "2023-03-21T12:32:06.710644Z"
    },
    "papermill": {
     "duration": 0.232909,
     "end_time": "2023-03-21T12:32:06.715093",
     "exception": false,
     "start_time": "2023-03-21T12:32:06.482184",
     "status": "completed"
    },
    "tags": []
   },
   "outputs": [
    {
     "data": {
      "text/plain": [
       "0.8101694915254237"
      ]
     },
     "execution_count": 43,
     "metadata": {},
     "output_type": "execute_result"
    }
   ],
   "source": [
    "rfc.fit(X_train,y_train)\n",
    "pred = rfc.predict(X_test)\n",
    "acc = accuracy_score(y_test,pred)\n",
    "acc"
   ]
  },
  {
   "cell_type": "markdown",
   "id": "e9720dad",
   "metadata": {
    "papermill": {
     "duration": 0.026093,
     "end_time": "2023-03-21T12:32:06.769227",
     "exception": false,
     "start_time": "2023-03-21T12:32:06.743134",
     "status": "completed"
    },
    "tags": []
   },
   "source": [
    "now, we have a better result without over fitting effect. 80% is quite good but lets turn back to the feature importances first. "
   ]
  },
  {
   "cell_type": "code",
   "execution_count": 44,
   "id": "578e99de",
   "metadata": {
    "execution": {
     "iopub.execute_input": "2023-03-21T12:32:06.824380Z",
     "iopub.status.busy": "2023-03-21T12:32:06.823550Z",
     "iopub.status.idle": "2023-03-21T12:32:06.841392Z",
     "shell.execute_reply": "2023-03-21T12:32:06.840462Z"
    },
    "papermill": {
     "duration": 0.048132,
     "end_time": "2023-03-21T12:32:06.843818",
     "exception": false,
     "start_time": "2023-03-21T12:32:06.795686",
     "status": "completed"
    },
    "tags": []
   },
   "outputs": [
    {
     "data": {
      "text/plain": [
       "array([0.08263178, 0.25807469, 0.05225634, 0.03661664, 0.23708489,\n",
       "       0.01728027, 0.00781935, 0.01768926, 0.14331722, 0.14722956])"
      ]
     },
     "execution_count": 44,
     "metadata": {},
     "output_type": "execute_result"
    }
   ],
   "source": [
    "rfc.feature_importances_"
   ]
  },
  {
   "cell_type": "markdown",
   "id": "73993c59",
   "metadata": {
    "papermill": {
     "duration": 0.02645,
     "end_time": "2023-03-21T12:32:06.896705",
     "exception": false,
     "start_time": "2023-03-21T12:32:06.870255",
     "status": "completed"
    },
    "tags": []
   },
   "source": [
    "highger value on above list indicates, higher importance. If you want to remember which value is which column lets print out the name of columns:"
   ]
  },
  {
   "cell_type": "code",
   "execution_count": 45,
   "id": "53aa861a",
   "metadata": {
    "execution": {
     "iopub.execute_input": "2023-03-21T12:32:06.952786Z",
     "iopub.status.busy": "2023-03-21T12:32:06.952305Z",
     "iopub.status.idle": "2023-03-21T12:32:06.959823Z",
     "shell.execute_reply": "2023-03-21T12:32:06.958546Z"
    },
    "papermill": {
     "duration": 0.038156,
     "end_time": "2023-03-21T12:32:06.962144",
     "exception": false,
     "start_time": "2023-03-21T12:32:06.923988",
     "status": "completed"
    },
    "tags": []
   },
   "outputs": [
    {
     "data": {
      "text/plain": [
       "Index(['Pclass', 'Age', 'SibSp', 'Parch', 'Fare', 'C', 'Q', 'S', 'Sex',\n",
       "       'Name'],\n",
       "      dtype='object')"
      ]
     },
     "execution_count": 45,
     "metadata": {},
     "output_type": "execute_result"
    }
   ],
   "source": [
    "X.columns"
   ]
  },
  {
   "cell_type": "markdown",
   "id": "27f9500d",
   "metadata": {
    "papermill": {
     "duration": 0.026004,
     "end_time": "2023-03-21T12:32:07.014656",
     "exception": false,
     "start_time": "2023-03-21T12:32:06.988652",
     "status": "completed"
    },
    "tags": []
   },
   "source": [
    "We can conclude the highest importance is for Age column, Fare follows it and than Sex and Name columns comes next. Alsoi you can think about the train test split draw backs. After all the splitting point is a problem and we can try the cross validation technique for the same random forest classifier algorithm:"
   ]
  },
  {
   "cell_type": "markdown",
   "id": "76e9d7c1",
   "metadata": {
    "papermill": {
     "duration": 0.026214,
     "end_time": "2023-03-21T12:32:07.067384",
     "exception": false,
     "start_time": "2023-03-21T12:32:07.041170",
     "status": "completed"
    },
    "tags": []
   },
   "source": [
    "# Model Phase"
   ]
  },
  {
   "cell_type": "markdown",
   "id": "7505c283",
   "metadata": {
    "papermill": {
     "duration": 0.027408,
     "end_time": "2023-03-21T12:32:07.121346",
     "exception": false,
     "start_time": "2023-03-21T12:32:07.093938",
     "status": "completed"
    },
    "tags": []
   },
   "source": [
    "Now we can proceed to the modelling phase of the CRIPS-DM. We have already started the modelling with random forest classifier and the linear regression but now we can handle the problem with trying some famous algorithms. Let's start with the cross validation of RFC."
   ]
  },
  {
   "cell_type": "code",
   "execution_count": 46,
   "id": "c2552e67",
   "metadata": {
    "execution": {
     "iopub.execute_input": "2023-03-21T12:32:07.178784Z",
     "iopub.status.busy": "2023-03-21T12:32:07.177861Z",
     "iopub.status.idle": "2023-03-21T12:32:07.824150Z",
     "shell.execute_reply": "2023-03-21T12:32:07.822816Z"
    },
    "papermill": {
     "duration": 0.678236,
     "end_time": "2023-03-21T12:32:07.826664",
     "exception": false,
     "start_time": "2023-03-21T12:32:07.148428",
     "status": "completed"
    },
    "tags": []
   },
   "outputs": [
    {
     "data": {
      "text/plain": [
       "{'fit_time': array([0.17435765, 0.17293024, 0.17334795]),\n",
       " 'score_time': array([0.01604319, 0.01631117, 0.01671362]),\n",
       " 'test_score': array([0.8047138 , 0.82828283, 0.79461279]),\n",
       " 'train_score': array([0.996633  , 0.99494949, 0.98989899])}"
      ]
     },
     "execution_count": 46,
     "metadata": {},
     "output_type": "execute_result"
    }
   ],
   "source": [
    "#lets get cv = 3 so the data set will be divided into 3 parts and 2 of them will be the training set\n",
    "from sklearn.model_selection import cross_validate\n",
    "scores = cross_validate(rfc, X, y, cv=3,\n",
    "                       scoring=('accuracy'),\n",
    "                       return_train_score=True)\n",
    "scores"
   ]
  },
  {
   "cell_type": "markdown",
   "id": "a8085210",
   "metadata": {
    "papermill": {
     "duration": 0.026595,
     "end_time": "2023-03-21T12:32:07.879843",
     "exception": false,
     "start_time": "2023-03-21T12:32:07.853248",
     "status": "completed"
    },
    "tags": []
   },
   "source": [
    "all three executions yields the similar results around 80%"
   ]
  },
  {
   "cell_type": "markdown",
   "id": "ff74e2ff",
   "metadata": {
    "papermill": {
     "duration": 0.026574,
     "end_time": "2023-03-21T12:32:07.933573",
     "exception": false,
     "start_time": "2023-03-21T12:32:07.906999",
     "status": "completed"
    },
    "tags": []
   },
   "source": [
    "We can now start testing the algorithms listed below:\n",
    "- Logistic Regression.\n",
    "- Naive Bayes.\n",
    "- K-Nearest Neighbors.\n",
    "- Decision Tree.\n",
    "- Support Vector Machines.\n",
    "- KMeans\n",
    "- gradient boosting classifier"
   ]
  },
  {
   "cell_type": "code",
   "execution_count": 47,
   "id": "db48eda7",
   "metadata": {
    "execution": {
     "iopub.execute_input": "2023-03-21T12:32:07.988983Z",
     "iopub.status.busy": "2023-03-21T12:32:07.988590Z",
     "iopub.status.idle": "2023-03-21T12:32:09.751008Z",
     "shell.execute_reply": "2023-03-21T12:32:09.749560Z"
    },
    "papermill": {
     "duration": 1.793678,
     "end_time": "2023-03-21T12:32:09.753989",
     "exception": false,
     "start_time": "2023-03-21T12:32:07.960311",
     "status": "completed"
    },
    "tags": []
   },
   "outputs": [
    {
     "data": {
      "text/plain": [
       "['LogisticRegression',\n",
       " {'fit_time': array([0.01141262, 0.01042986, 0.00995898]),\n",
       "  'score_time': array([0.00197983, 0.00193334, 0.00187349]),\n",
       "  'test_score': array([0.8013468 , 0.80808081, 0.79461279]),\n",
       "  'train_score': array([0.82491582, 0.81818182, 0.80808081])},\n",
       " 'GaussianNB',\n",
       " {'fit_time': array([0.00259662, 0.00243521, 0.00241685]),\n",
       "  'score_time': array([0.00170755, 0.00165105, 0.00170445]),\n",
       "  'test_score': array([0.77777778, 0.7979798 , 0.79461279]),\n",
       "  'train_score': array([0.81818182, 0.7996633 , 0.7962963 ])},\n",
       " 'KNeighborsClassifier',\n",
       " {'fit_time': array([0.00276899, 0.00304699, 0.00300455]),\n",
       "  'score_time': array([0.01182103, 0.01218963, 0.01220751]),\n",
       "  'test_score': array([0.82154882, 0.8047138 , 0.81818182]),\n",
       "  'train_score': array([0.87373737, 0.87037037, 0.85521886])},\n",
       " 'DecisionTreeClassifier',\n",
       " {'fit_time': array([0.00366116, 0.00353169, 0.00332737]),\n",
       "  'score_time': array([0.00174499, 0.00163579, 0.00161886]),\n",
       "  'test_score': array([0.76767677, 0.77104377, 0.76430976]),\n",
       "  'train_score': array([0.996633  , 0.99494949, 0.98989899])},\n",
       " 'SVC',\n",
       " {'fit_time': array([0.01339722, 0.01284647, 0.01271343]),\n",
       "  'score_time': array([0.00669813, 0.00695062, 0.00662208]),\n",
       "  'test_score': array([0.81481481, 0.84175084, 0.8047138 ]),\n",
       "  'train_score': array([0.83838384, 0.82828283, 0.82659933])},\n",
       " 'KMeans',\n",
       " {'fit_time': array([0.04204488, 0.07079291, 0.08222866]),\n",
       "  'score_time': array([0.08349037, 0.00274348, 0.00246191]),\n",
       "  'test_score': array([0.2962963 , 0.03703704, 0.08754209]),\n",
       "  'train_score': array([0.29461279, 0.04208754, 0.11616162])},\n",
       " 'GradientBoostingClassifier',\n",
       " {'fit_time': array([0.09718299, 0.09538865, 0.09530997]),\n",
       "  'score_time': array([0.00289536, 0.00279665, 0.00278115]),\n",
       "  'test_score': array([0.8047138 , 0.86195286, 0.82491582]),\n",
       "  'train_score': array([0.92087542, 0.92760943, 0.90909091])},\n",
       " 'RandomForestClassifier',\n",
       " {'fit_time': array([0.17388558, 0.17934608, 0.19629526]),\n",
       "  'score_time': array([0.01612353, 0.01644111, 0.01642036]),\n",
       "  'test_score': array([0.80808081, 0.80808081, 0.8013468 ]),\n",
       "  'train_score': array([0.996633  , 0.99494949, 0.98989899])}]"
      ]
     },
     "execution_count": 47,
     "metadata": {},
     "output_type": "execute_result"
    }
   ],
   "source": [
    "#Algorithm importing and definitions\n",
    "from sklearn.linear_model import LogisticRegression\n",
    "lr = LogisticRegression()\n",
    "from sklearn.naive_bayes import GaussianNB\n",
    "gnb = GaussianNB()\n",
    "from sklearn.neighbors import KNeighborsClassifier\n",
    "knn = KNeighborsClassifier()\n",
    "from sklearn.tree import DecisionTreeClassifier\n",
    "dtc = DecisionTreeClassifier()\n",
    "from sklearn.svm import SVC\n",
    "svc = SVC()\n",
    "from sklearn.cluster import KMeans\n",
    "km = KMeans()\n",
    "from sklearn.ensemble import GradientBoostingClassifier\n",
    "gbc = GradientBoostingClassifier()\n",
    "\n",
    "#we create a list for algorihthms and another list for the name of the algorithms\n",
    "algos = [lr,gnb,knn,dtc,svc,km,gbc,rfc]\n",
    "algo_names = ['LogisticRegression','GaussianNB','KNeighborsClassifier',\n",
    "             'DecisionTreeClassifier','SVC','KMeans','GradientBoostingClassifier',\n",
    "             'RandomForestClassifier']\n",
    "\n",
    "# lets get the score of each algorithm by using the accuracy\n",
    "scores = []\n",
    "for i in range(len(algos)):\n",
    "    temp = cross_validate(algos[i], X, y, cv=3,\n",
    "                       scoring=('accuracy'),\n",
    "                       return_train_score=True)\n",
    "    scores += [algo_names[i],temp]\n",
    "scores\n",
    "\n"
   ]
  },
  {
   "cell_type": "markdown",
   "id": "611310b1",
   "metadata": {
    "papermill": {
     "duration": 0.026373,
     "end_time": "2023-03-21T12:32:09.807043",
     "exception": false,
     "start_time": "2023-03-21T12:32:09.780670",
     "status": "completed"
    },
    "tags": []
   },
   "source": [
    "Gradient boosting classifier seems the best, SVC, KNN and RFC follows it in the given order. "
   ]
  },
  {
   "cell_type": "markdown",
   "id": "43708db4",
   "metadata": {
    "papermill": {
     "duration": 0.026564,
     "end_time": "2023-03-21T12:32:09.860542",
     "exception": false,
     "start_time": "2023-03-21T12:32:09.833978",
     "status": "completed"
    },
    "tags": []
   },
   "source": [
    "# Deployment Phase"
   ]
  },
  {
   "cell_type": "markdown",
   "id": "72ac78e5",
   "metadata": {
    "papermill": {
     "duration": 0.026642,
     "end_time": "2023-03-21T12:32:09.913915",
     "exception": false,
     "start_time": "2023-03-21T12:32:09.887273",
     "status": "completed"
    },
    "tags": []
   },
   "source": [
    "Now, we can create our pipe line for training and scoring the test.csv file. "
   ]
  },
  {
   "cell_type": "code",
   "execution_count": 48,
   "id": "0927ad10",
   "metadata": {
    "execution": {
     "iopub.execute_input": "2023-03-21T12:32:09.970411Z",
     "iopub.status.busy": "2023-03-21T12:32:09.969404Z",
     "iopub.status.idle": "2023-03-21T12:32:10.216335Z",
     "shell.execute_reply": "2023-03-21T12:32:10.214989Z"
    },
    "papermill": {
     "duration": 0.279087,
     "end_time": "2023-03-21T12:32:10.219828",
     "exception": false,
     "start_time": "2023-03-21T12:32:09.940741",
     "status": "completed"
    },
    "tags": []
   },
   "outputs": [
    {
     "data": {
      "text/plain": [
       "0.9023569023569024"
      ]
     },
     "execution_count": 48,
     "metadata": {},
     "output_type": "execute_result"
    }
   ],
   "source": [
    "df = pd.read_csv('/kaggle/input/titanic/train.csv')\n",
    "temp = pd.get_dummies(df['Embarked'])\n",
    "df = pd.concat([df,temp],axis= 1)\n",
    "df.drop('Embarked', axis = 1, inplace = True)\n",
    "\n",
    "temp = df['Sex'].replace({'male':1,'female':0})\n",
    "df.drop('Sex',axis = 1,inplace=True)\n",
    "df  = pd.concat([df,temp],axis = 1)\n",
    "\n",
    "temp = df['Name'].str.contains('Mr\\.') | df['Name'].str.contains('Dr\\.') | df['Name'].str.contains('Sir')\n",
    "temp = temp.to_frame().replace({True:1,False:0})\n",
    "df.drop('Name',axis = 1,inplace = True)\n",
    "df = pd.concat([df,temp],axis = 1)\n",
    "\n",
    "df.drop(['Cabin','Ticket','PassengerId'], axis = 1 , inplace = True)\n",
    "\n",
    "from sklearn.preprocessing import MinMaxScaler\n",
    "from sklearn.impute import KNNImputer\n",
    "\n",
    "from sklearn.pipeline import Pipeline\n",
    "pipe = Pipeline([('Min Max Scaler', MinMaxScaler()), ('KNN Imputer', KNNImputer()),\n",
    "                ('GradientBoostingClassifier',GradientBoostingClassifier())])\n",
    "\n",
    "X = df.drop('Survived', axis = 1)\n",
    "y = df['Survived']\n",
    "pipe.fit(X,y)\n",
    "y_pred = pipe.predict(X)\n",
    "\n",
    "from sklearn.metrics import accuracy_score\n",
    "acc = accuracy_score(y,y_pred)\n",
    "acc\n",
    "\n"
   ]
  },
  {
   "cell_type": "markdown",
   "id": "3577b106",
   "metadata": {
    "papermill": {
     "duration": 0.044208,
     "end_time": "2023-03-21T12:32:10.309706",
     "exception": false,
     "start_time": "2023-03-21T12:32:10.265498",
     "status": "completed"
    },
    "tags": []
   },
   "source": [
    "# Scoring Test.CSV and Submission"
   ]
  },
  {
   "cell_type": "code",
   "execution_count": 49,
   "id": "b61eee5b",
   "metadata": {
    "execution": {
     "iopub.execute_input": "2023-03-21T12:32:10.367833Z",
     "iopub.status.busy": "2023-03-21T12:32:10.367352Z",
     "iopub.status.idle": "2023-03-21T12:32:10.391209Z",
     "shell.execute_reply": "2023-03-21T12:32:10.389861Z"
    },
    "papermill": {
     "duration": 0.055153,
     "end_time": "2023-03-21T12:32:10.393957",
     "exception": false,
     "start_time": "2023-03-21T12:32:10.338804",
     "status": "completed"
    },
    "tags": []
   },
   "outputs": [
    {
     "data": {
      "text/html": [
       "<div>\n",
       "<style scoped>\n",
       "    .dataframe tbody tr th:only-of-type {\n",
       "        vertical-align: middle;\n",
       "    }\n",
       "\n",
       "    .dataframe tbody tr th {\n",
       "        vertical-align: top;\n",
       "    }\n",
       "\n",
       "    .dataframe thead th {\n",
       "        text-align: right;\n",
       "    }\n",
       "</style>\n",
       "<table border=\"1\" class=\"dataframe\">\n",
       "  <thead>\n",
       "    <tr style=\"text-align: right;\">\n",
       "      <th></th>\n",
       "      <th>PassengerId</th>\n",
       "      <th>Pclass</th>\n",
       "      <th>Name</th>\n",
       "      <th>Sex</th>\n",
       "      <th>Age</th>\n",
       "      <th>SibSp</th>\n",
       "      <th>Parch</th>\n",
       "      <th>Ticket</th>\n",
       "      <th>Fare</th>\n",
       "      <th>Cabin</th>\n",
       "      <th>Embarked</th>\n",
       "    </tr>\n",
       "  </thead>\n",
       "  <tbody>\n",
       "    <tr>\n",
       "      <th>0</th>\n",
       "      <td>892</td>\n",
       "      <td>3</td>\n",
       "      <td>Kelly, Mr. James</td>\n",
       "      <td>male</td>\n",
       "      <td>34.5</td>\n",
       "      <td>0</td>\n",
       "      <td>0</td>\n",
       "      <td>330911</td>\n",
       "      <td>7.8292</td>\n",
       "      <td>NaN</td>\n",
       "      <td>Q</td>\n",
       "    </tr>\n",
       "    <tr>\n",
       "      <th>1</th>\n",
       "      <td>893</td>\n",
       "      <td>3</td>\n",
       "      <td>Wilkes, Mrs. James (Ellen Needs)</td>\n",
       "      <td>female</td>\n",
       "      <td>47.0</td>\n",
       "      <td>1</td>\n",
       "      <td>0</td>\n",
       "      <td>363272</td>\n",
       "      <td>7.0000</td>\n",
       "      <td>NaN</td>\n",
       "      <td>S</td>\n",
       "    </tr>\n",
       "    <tr>\n",
       "      <th>2</th>\n",
       "      <td>894</td>\n",
       "      <td>2</td>\n",
       "      <td>Myles, Mr. Thomas Francis</td>\n",
       "      <td>male</td>\n",
       "      <td>62.0</td>\n",
       "      <td>0</td>\n",
       "      <td>0</td>\n",
       "      <td>240276</td>\n",
       "      <td>9.6875</td>\n",
       "      <td>NaN</td>\n",
       "      <td>Q</td>\n",
       "    </tr>\n",
       "  </tbody>\n",
       "</table>\n",
       "</div>"
      ],
      "text/plain": [
       "   PassengerId  Pclass                              Name     Sex   Age  SibSp  \\\n",
       "0          892       3                  Kelly, Mr. James    male  34.5      0   \n",
       "1          893       3  Wilkes, Mrs. James (Ellen Needs)  female  47.0      1   \n",
       "2          894       2         Myles, Mr. Thomas Francis    male  62.0      0   \n",
       "\n",
       "   Parch  Ticket    Fare Cabin Embarked  \n",
       "0      0  330911  7.8292   NaN        Q  \n",
       "1      0  363272  7.0000   NaN        S  \n",
       "2      0  240276  9.6875   NaN        Q  "
      ]
     },
     "execution_count": 49,
     "metadata": {},
     "output_type": "execute_result"
    }
   ],
   "source": [
    "#load the test data set\n",
    "df = pd.read_csv('/kaggle/input/titanic/test.csv')\n",
    "#check the first 3 rows of the data\n",
    "df.head(3)"
   ]
  },
  {
   "cell_type": "code",
   "execution_count": 50,
   "id": "a95f7e81",
   "metadata": {
    "execution": {
     "iopub.execute_input": "2023-03-21T12:32:10.450731Z",
     "iopub.status.busy": "2023-03-21T12:32:10.449969Z",
     "iopub.status.idle": "2023-03-21T12:32:10.489255Z",
     "shell.execute_reply": "2023-03-21T12:32:10.487560Z"
    },
    "papermill": {
     "duration": 0.071868,
     "end_time": "2023-03-21T12:32:10.492956",
     "exception": false,
     "start_time": "2023-03-21T12:32:10.421088",
     "status": "completed"
    },
    "tags": []
   },
   "outputs": [],
   "source": [
    "temp = pd.get_dummies(df['Embarked'])\n",
    "df = pd.concat([df,temp],axis= 1)\n",
    "df.drop('Embarked', axis = 1, inplace = True)\n",
    "\n",
    "temp = df['Sex'].replace({'male':1,'female':0})\n",
    "df.drop('Sex',axis = 1,inplace=True)\n",
    "df  = pd.concat([df,temp],axis = 1)\n",
    "\n",
    "temp = df['Name'].str.contains('Mr\\.') | df['Name'].str.contains('Dr\\.') | df['Name'].str.contains('Sir')\n",
    "temp = temp.to_frame().replace({True:1,False:0})\n",
    "df.drop('Name',axis = 1,inplace = True)\n",
    "df = pd.concat([df,temp],axis = 1)\n",
    "\n",
    "df.drop(['Cabin','Ticket','PassengerId'], axis = 1 , inplace = True)\n",
    "\n",
    "sonuclar = pipe.predict(df)"
   ]
  },
  {
   "cell_type": "code",
   "execution_count": 51,
   "id": "11cc003c",
   "metadata": {
    "execution": {
     "iopub.execute_input": "2023-03-21T12:32:10.584712Z",
     "iopub.status.busy": "2023-03-21T12:32:10.584070Z",
     "iopub.status.idle": "2023-03-21T12:32:10.605715Z",
     "shell.execute_reply": "2023-03-21T12:32:10.604736Z"
    },
    "papermill": {
     "duration": 0.070824,
     "end_time": "2023-03-21T12:32:10.608151",
     "exception": false,
     "start_time": "2023-03-21T12:32:10.537327",
     "status": "completed"
    },
    "tags": []
   },
   "outputs": [],
   "source": [
    "df = pd.read_csv('/kaggle/input/titanic/test.csv')\n",
    "df = df[['PassengerId']]\n",
    "df['Survived'] = sonuclar\n",
    "df.to_csv('sonuclar.csv', index = False)"
   ]
  },
  {
   "cell_type": "code",
   "execution_count": 52,
   "id": "11a574e7",
   "metadata": {
    "execution": {
     "iopub.execute_input": "2023-03-21T12:32:10.665917Z",
     "iopub.status.busy": "2023-03-21T12:32:10.665032Z",
     "iopub.status.idle": "2023-03-21T12:32:10.677006Z",
     "shell.execute_reply": "2023-03-21T12:32:10.675358Z"
    },
    "papermill": {
     "duration": 0.044131,
     "end_time": "2023-03-21T12:32:10.679965",
     "exception": false,
     "start_time": "2023-03-21T12:32:10.635834",
     "status": "completed"
    },
    "tags": []
   },
   "outputs": [
    {
     "data": {
      "text/html": [
       "<div>\n",
       "<style scoped>\n",
       "    .dataframe tbody tr th:only-of-type {\n",
       "        vertical-align: middle;\n",
       "    }\n",
       "\n",
       "    .dataframe tbody tr th {\n",
       "        vertical-align: top;\n",
       "    }\n",
       "\n",
       "    .dataframe thead th {\n",
       "        text-align: right;\n",
       "    }\n",
       "</style>\n",
       "<table border=\"1\" class=\"dataframe\">\n",
       "  <thead>\n",
       "    <tr style=\"text-align: right;\">\n",
       "      <th></th>\n",
       "      <th>PassengerId</th>\n",
       "      <th>Survived</th>\n",
       "    </tr>\n",
       "  </thead>\n",
       "  <tbody>\n",
       "    <tr>\n",
       "      <th>0</th>\n",
       "      <td>892</td>\n",
       "      <td>0</td>\n",
       "    </tr>\n",
       "    <tr>\n",
       "      <th>1</th>\n",
       "      <td>893</td>\n",
       "      <td>0</td>\n",
       "    </tr>\n",
       "    <tr>\n",
       "      <th>2</th>\n",
       "      <td>894</td>\n",
       "      <td>0</td>\n",
       "    </tr>\n",
       "    <tr>\n",
       "      <th>3</th>\n",
       "      <td>895</td>\n",
       "      <td>0</td>\n",
       "    </tr>\n",
       "    <tr>\n",
       "      <th>4</th>\n",
       "      <td>896</td>\n",
       "      <td>0</td>\n",
       "    </tr>\n",
       "  </tbody>\n",
       "</table>\n",
       "</div>"
      ],
      "text/plain": [
       "   PassengerId  Survived\n",
       "0          892         0\n",
       "1          893         0\n",
       "2          894         0\n",
       "3          895         0\n",
       "4          896         0"
      ]
     },
     "execution_count": 52,
     "metadata": {},
     "output_type": "execute_result"
    }
   ],
   "source": [
    "df.head()"
   ]
  }
 ],
 "metadata": {
  "kernelspec": {
   "display_name": "Python 3",
   "language": "python",
   "name": "python3"
  },
  "language_info": {
   "codemirror_mode": {
    "name": "ipython",
    "version": 3
   },
   "file_extension": ".py",
   "mimetype": "text/x-python",
   "name": "python",
   "nbconvert_exporter": "python",
   "pygments_lexer": "ipython3",
   "version": "3.7.12"
  },
  "papermill": {
   "default_parameters": {},
   "duration": 23.11442,
   "end_time": "2023-03-21T12:32:11.630527",
   "environment_variables": {},
   "exception": null,
   "input_path": "__notebook__.ipynb",
   "output_path": "__notebook__.ipynb",
   "parameters": {},
   "start_time": "2023-03-21T12:31:48.516107",
   "version": "2.4.0"
  }
 },
 "nbformat": 4,
 "nbformat_minor": 5
}
